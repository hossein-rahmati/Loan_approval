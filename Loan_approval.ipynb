{
 "cells": [
  {
   "cell_type": "markdown",
   "id": "2694afbf",
   "metadata": {},
   "source": [
    "### Should This Loan be Approved or Denied?"
   ]
  },
  {
   "cell_type": "markdown",
   "id": "00c7abdc",
   "metadata": {},
   "source": [
    "The dataset that I used in this notebook:\n",
    "[Kaggle URL](https://www.kaggle.com/datasets/mirbektoktogaraev/should-this-loan-be-approved-or-denied/code)"
   ]
  },
  {
   "cell_type": "code",
   "execution_count": 1,
   "id": "ae2e412f",
   "metadata": {},
   "outputs": [
    {
     "name": "stdout",
     "output_type": "stream",
     "text": [
      "Path to dataset files: C:\\Users\\Asus\\.cache\\kagglehub\\datasets\\mirbektoktogaraev\\should-this-loan-be-approved-or-denied\\versions\\2\n"
     ]
    }
   ],
   "source": [
    "import kagglehub\n",
    "\n",
    "# Download latest version\n",
    "path = kagglehub.dataset_download(\n",
    "    \"mirbektoktogaraev/should-this-loan-be-approved-or-denied\"\n",
    ")\n",
    "\n",
    "print(\"Path to dataset files:\", path)"
   ]
  },
  {
   "cell_type": "code",
   "execution_count": 2,
   "id": "2ba3cb24",
   "metadata": {},
   "outputs": [],
   "source": [
    "# Importing libraries\n",
    "\n",
    "import numpy as np\n",
    "import pandas as pd\n",
    "import matplotlib.pyplot as plt\n",
    "import seaborn as sns"
   ]
  },
  {
   "cell_type": "markdown",
   "id": "1f3f3ac6",
   "metadata": {},
   "source": [
    "## Preprocessing"
   ]
  },
  {
   "cell_type": "code",
   "execution_count": 3,
   "id": "f14f8540",
   "metadata": {},
   "outputs": [
    {
     "name": "stderr",
     "output_type": "stream",
     "text": [
      "C:\\Users\\Asus\\AppData\\Local\\Temp\\ipykernel_9712\\3653536637.py:4: DtypeWarning: Columns (9) have mixed types. Specify dtype option on import or set low_memory=False.\n",
      "  df = pd.read_csv(ds_path)\n"
     ]
    },
    {
     "data": {
      "application/vnd.microsoft.datawrangler.viewer.v0+json": {
       "columns": [
        {
         "name": "index",
         "rawType": "int64",
         "type": "integer"
        },
        {
         "name": "LoanNr_ChkDgt",
         "rawType": "int64",
         "type": "integer"
        },
        {
         "name": "Name",
         "rawType": "object",
         "type": "string"
        },
        {
         "name": "City",
         "rawType": "object",
         "type": "string"
        },
        {
         "name": "State",
         "rawType": "object",
         "type": "string"
        },
        {
         "name": "Zip",
         "rawType": "int64",
         "type": "integer"
        },
        {
         "name": "Bank",
         "rawType": "object",
         "type": "string"
        },
        {
         "name": "BankState",
         "rawType": "object",
         "type": "string"
        },
        {
         "name": "NAICS",
         "rawType": "int64",
         "type": "integer"
        },
        {
         "name": "ApprovalDate",
         "rawType": "object",
         "type": "string"
        },
        {
         "name": "ApprovalFY",
         "rawType": "object",
         "type": "unknown"
        },
        {
         "name": "Term",
         "rawType": "int64",
         "type": "integer"
        },
        {
         "name": "NoEmp",
         "rawType": "int64",
         "type": "integer"
        },
        {
         "name": "NewExist",
         "rawType": "float64",
         "type": "float"
        },
        {
         "name": "CreateJob",
         "rawType": "int64",
         "type": "integer"
        },
        {
         "name": "RetainedJob",
         "rawType": "int64",
         "type": "integer"
        },
        {
         "name": "FranchiseCode",
         "rawType": "int64",
         "type": "integer"
        },
        {
         "name": "UrbanRural",
         "rawType": "int64",
         "type": "integer"
        },
        {
         "name": "RevLineCr",
         "rawType": "object",
         "type": "string"
        },
        {
         "name": "LowDoc",
         "rawType": "object",
         "type": "string"
        },
        {
         "name": "ChgOffDate",
         "rawType": "object",
         "type": "unknown"
        },
        {
         "name": "DisbursementDate",
         "rawType": "object",
         "type": "string"
        },
        {
         "name": "DisbursementGross",
         "rawType": "object",
         "type": "string"
        },
        {
         "name": "BalanceGross",
         "rawType": "object",
         "type": "string"
        },
        {
         "name": "MIS_Status",
         "rawType": "object",
         "type": "string"
        },
        {
         "name": "ChgOffPrinGr",
         "rawType": "object",
         "type": "string"
        },
        {
         "name": "GrAppv",
         "rawType": "object",
         "type": "string"
        },
        {
         "name": "SBA_Appv",
         "rawType": "object",
         "type": "string"
        }
       ],
       "ref": "b7633e47-2561-47c2-9ccf-4b48562fdb43",
       "rows": [
        [
         "0",
         "1000014003",
         "ABC HOBBYCRAFT",
         "EVANSVILLE",
         "IN",
         "47711",
         "FIFTH THIRD BANK",
         "OH",
         "451120",
         "28-Feb-97",
         "1997",
         "84",
         "4",
         "2.0",
         "0",
         "0",
         "1",
         "0",
         "N",
         "Y",
         null,
         "28-Feb-99",
         "$60,000.00 ",
         "$0.00 ",
         "P I F",
         "$0.00 ",
         "$60,000.00 ",
         "$48,000.00 "
        ],
        [
         "1",
         "1000024006",
         "LANDMARK BAR & GRILLE (THE)",
         "NEW PARIS",
         "IN",
         "46526",
         "1ST SOURCE BANK",
         "IN",
         "722410",
         "28-Feb-97",
         "1997",
         "60",
         "2",
         "2.0",
         "0",
         "0",
         "1",
         "0",
         "N",
         "Y",
         null,
         "31-May-97",
         "$40,000.00 ",
         "$0.00 ",
         "P I F",
         "$0.00 ",
         "$40,000.00 ",
         "$32,000.00 "
        ],
        [
         "2",
         "1000034009",
         "WHITLOCK DDS, TODD M.",
         "BLOOMINGTON",
         "IN",
         "47401",
         "GRANT COUNTY STATE BANK",
         "IN",
         "621210",
         "28-Feb-97",
         "1997",
         "180",
         "7",
         "1.0",
         "0",
         "0",
         "1",
         "0",
         "N",
         "N",
         null,
         "31-Dec-97",
         "$287,000.00 ",
         "$0.00 ",
         "P I F",
         "$0.00 ",
         "$287,000.00 ",
         "$215,250.00 "
        ],
        [
         "3",
         "1000044001",
         "BIG BUCKS PAWN & JEWELRY, LLC",
         "BROKEN ARROW",
         "OK",
         "74012",
         "1ST NATL BK & TR CO OF BROKEN",
         "OK",
         "0",
         "28-Feb-97",
         "1997",
         "60",
         "2",
         "1.0",
         "0",
         "0",
         "1",
         "0",
         "N",
         "Y",
         null,
         "30-Jun-97",
         "$35,000.00 ",
         "$0.00 ",
         "P I F",
         "$0.00 ",
         "$35,000.00 ",
         "$28,000.00 "
        ],
        [
         "4",
         "1000054004",
         "ANASTASIA CONFECTIONS, INC.",
         "ORLANDO",
         "FL",
         "32801",
         "FLORIDA BUS. DEVEL CORP",
         "FL",
         "0",
         "28-Feb-97",
         "1997",
         "240",
         "14",
         "1.0",
         "7",
         "7",
         "1",
         "0",
         "N",
         "N",
         null,
         "14-May-97",
         "$229,000.00 ",
         "$0.00 ",
         "P I F",
         "$0.00 ",
         "$229,000.00 ",
         "$229,000.00 "
        ],
        [
         "5",
         "1000084002",
         "B&T SCREW MACHINE COMPANY, INC",
         "PLAINVILLE",
         "CT",
         "6062",
         "TD BANK, NATIONAL ASSOCIATION",
         "DE",
         "332721",
         "28-Feb-97",
         "1997",
         "120",
         "19",
         "1.0",
         "0",
         "0",
         "1",
         "0",
         "N",
         "N",
         null,
         "30-Jun-97",
         "$517,000.00 ",
         "$0.00 ",
         "P I F",
         "$0.00 ",
         "$517,000.00 ",
         "$387,750.00 "
        ],
        [
         "6",
         "1000093009",
         "MIDDLE ATLANTIC SPORTS CO INC",
         "UNION",
         "NJ",
         "7083",
         "WELLS FARGO BANK NATL ASSOC",
         "SD",
         "0",
         "2-Jun-80",
         "1980",
         "45",
         "45",
         "2.0",
         "0",
         "0",
         "0",
         "0",
         "N",
         "N",
         "24-Jun-91",
         "22-Jul-80",
         "$600,000.00 ",
         "$0.00 ",
         "CHGOFF",
         "$208,959.00 ",
         "$600,000.00 ",
         "$499,998.00 "
        ],
        [
         "7",
         "1000094005",
         "WEAVER PRODUCTS",
         "SUMMERFIELD",
         "FL",
         "34491",
         "REGIONS BANK",
         "AL",
         "811118",
         "28-Feb-97",
         "1997",
         "84",
         "1",
         "2.0",
         "0",
         "0",
         "1",
         "0",
         "N",
         "Y",
         null,
         "30-Jun-98",
         "$45,000.00 ",
         "$0.00 ",
         "P I F",
         "$0.00 ",
         "$45,000.00 ",
         "$36,000.00 "
        ],
        [
         "8",
         "1000104006",
         "TURTLE BEACH INN",
         "PORT SAINT JOE",
         "FL",
         "32456",
         "CENTENNIAL BANK",
         "FL",
         "721310",
         "28-Feb-97",
         "1997",
         "297",
         "2",
         "2.0",
         "0",
         "0",
         "1",
         "0",
         "N",
         "N",
         null,
         "31-Jul-97",
         "$305,000.00 ",
         "$0.00 ",
         "P I F",
         "$0.00 ",
         "$305,000.00 ",
         "$228,750.00 "
        ],
        [
         "9",
         "1000124001",
         "INTEXT BUILDING SYS LLC",
         "GLASTONBURY",
         "CT",
         "6073",
         "WEBSTER BANK NATL ASSOC",
         "CT",
         "0",
         "28-Feb-97",
         "1997",
         "84",
         "3",
         "2.0",
         "0",
         "0",
         "1",
         "0",
         "N",
         "Y",
         null,
         "30-Apr-97",
         "$70,000.00 ",
         "$0.00 ",
         "P I F",
         "$0.00 ",
         "$70,000.00 ",
         "$56,000.00 "
        ]
       ],
       "shape": {
        "columns": 27,
        "rows": 10
       }
      },
      "text/html": [
       "<div>\n",
       "<style scoped>\n",
       "    .dataframe tbody tr th:only-of-type {\n",
       "        vertical-align: middle;\n",
       "    }\n",
       "\n",
       "    .dataframe tbody tr th {\n",
       "        vertical-align: top;\n",
       "    }\n",
       "\n",
       "    .dataframe thead th {\n",
       "        text-align: right;\n",
       "    }\n",
       "</style>\n",
       "<table border=\"1\" class=\"dataframe\">\n",
       "  <thead>\n",
       "    <tr style=\"text-align: right;\">\n",
       "      <th></th>\n",
       "      <th>LoanNr_ChkDgt</th>\n",
       "      <th>Name</th>\n",
       "      <th>City</th>\n",
       "      <th>State</th>\n",
       "      <th>Zip</th>\n",
       "      <th>Bank</th>\n",
       "      <th>BankState</th>\n",
       "      <th>NAICS</th>\n",
       "      <th>ApprovalDate</th>\n",
       "      <th>ApprovalFY</th>\n",
       "      <th>...</th>\n",
       "      <th>RevLineCr</th>\n",
       "      <th>LowDoc</th>\n",
       "      <th>ChgOffDate</th>\n",
       "      <th>DisbursementDate</th>\n",
       "      <th>DisbursementGross</th>\n",
       "      <th>BalanceGross</th>\n",
       "      <th>MIS_Status</th>\n",
       "      <th>ChgOffPrinGr</th>\n",
       "      <th>GrAppv</th>\n",
       "      <th>SBA_Appv</th>\n",
       "    </tr>\n",
       "  </thead>\n",
       "  <tbody>\n",
       "    <tr>\n",
       "      <th>0</th>\n",
       "      <td>1000014003</td>\n",
       "      <td>ABC HOBBYCRAFT</td>\n",
       "      <td>EVANSVILLE</td>\n",
       "      <td>IN</td>\n",
       "      <td>47711</td>\n",
       "      <td>FIFTH THIRD BANK</td>\n",
       "      <td>OH</td>\n",
       "      <td>451120</td>\n",
       "      <td>28-Feb-97</td>\n",
       "      <td>1997</td>\n",
       "      <td>...</td>\n",
       "      <td>N</td>\n",
       "      <td>Y</td>\n",
       "      <td>NaN</td>\n",
       "      <td>28-Feb-99</td>\n",
       "      <td>$60,000.00</td>\n",
       "      <td>$0.00</td>\n",
       "      <td>P I F</td>\n",
       "      <td>$0.00</td>\n",
       "      <td>$60,000.00</td>\n",
       "      <td>$48,000.00</td>\n",
       "    </tr>\n",
       "    <tr>\n",
       "      <th>1</th>\n",
       "      <td>1000024006</td>\n",
       "      <td>LANDMARK BAR &amp; GRILLE (THE)</td>\n",
       "      <td>NEW PARIS</td>\n",
       "      <td>IN</td>\n",
       "      <td>46526</td>\n",
       "      <td>1ST SOURCE BANK</td>\n",
       "      <td>IN</td>\n",
       "      <td>722410</td>\n",
       "      <td>28-Feb-97</td>\n",
       "      <td>1997</td>\n",
       "      <td>...</td>\n",
       "      <td>N</td>\n",
       "      <td>Y</td>\n",
       "      <td>NaN</td>\n",
       "      <td>31-May-97</td>\n",
       "      <td>$40,000.00</td>\n",
       "      <td>$0.00</td>\n",
       "      <td>P I F</td>\n",
       "      <td>$0.00</td>\n",
       "      <td>$40,000.00</td>\n",
       "      <td>$32,000.00</td>\n",
       "    </tr>\n",
       "    <tr>\n",
       "      <th>2</th>\n",
       "      <td>1000034009</td>\n",
       "      <td>WHITLOCK DDS, TODD M.</td>\n",
       "      <td>BLOOMINGTON</td>\n",
       "      <td>IN</td>\n",
       "      <td>47401</td>\n",
       "      <td>GRANT COUNTY STATE BANK</td>\n",
       "      <td>IN</td>\n",
       "      <td>621210</td>\n",
       "      <td>28-Feb-97</td>\n",
       "      <td>1997</td>\n",
       "      <td>...</td>\n",
       "      <td>N</td>\n",
       "      <td>N</td>\n",
       "      <td>NaN</td>\n",
       "      <td>31-Dec-97</td>\n",
       "      <td>$287,000.00</td>\n",
       "      <td>$0.00</td>\n",
       "      <td>P I F</td>\n",
       "      <td>$0.00</td>\n",
       "      <td>$287,000.00</td>\n",
       "      <td>$215,250.00</td>\n",
       "    </tr>\n",
       "    <tr>\n",
       "      <th>3</th>\n",
       "      <td>1000044001</td>\n",
       "      <td>BIG BUCKS PAWN &amp; JEWELRY, LLC</td>\n",
       "      <td>BROKEN ARROW</td>\n",
       "      <td>OK</td>\n",
       "      <td>74012</td>\n",
       "      <td>1ST NATL BK &amp; TR CO OF BROKEN</td>\n",
       "      <td>OK</td>\n",
       "      <td>0</td>\n",
       "      <td>28-Feb-97</td>\n",
       "      <td>1997</td>\n",
       "      <td>...</td>\n",
       "      <td>N</td>\n",
       "      <td>Y</td>\n",
       "      <td>NaN</td>\n",
       "      <td>30-Jun-97</td>\n",
       "      <td>$35,000.00</td>\n",
       "      <td>$0.00</td>\n",
       "      <td>P I F</td>\n",
       "      <td>$0.00</td>\n",
       "      <td>$35,000.00</td>\n",
       "      <td>$28,000.00</td>\n",
       "    </tr>\n",
       "    <tr>\n",
       "      <th>4</th>\n",
       "      <td>1000054004</td>\n",
       "      <td>ANASTASIA CONFECTIONS, INC.</td>\n",
       "      <td>ORLANDO</td>\n",
       "      <td>FL</td>\n",
       "      <td>32801</td>\n",
       "      <td>FLORIDA BUS. DEVEL CORP</td>\n",
       "      <td>FL</td>\n",
       "      <td>0</td>\n",
       "      <td>28-Feb-97</td>\n",
       "      <td>1997</td>\n",
       "      <td>...</td>\n",
       "      <td>N</td>\n",
       "      <td>N</td>\n",
       "      <td>NaN</td>\n",
       "      <td>14-May-97</td>\n",
       "      <td>$229,000.00</td>\n",
       "      <td>$0.00</td>\n",
       "      <td>P I F</td>\n",
       "      <td>$0.00</td>\n",
       "      <td>$229,000.00</td>\n",
       "      <td>$229,000.00</td>\n",
       "    </tr>\n",
       "    <tr>\n",
       "      <th>5</th>\n",
       "      <td>1000084002</td>\n",
       "      <td>B&amp;T SCREW MACHINE COMPANY, INC</td>\n",
       "      <td>PLAINVILLE</td>\n",
       "      <td>CT</td>\n",
       "      <td>6062</td>\n",
       "      <td>TD BANK, NATIONAL ASSOCIATION</td>\n",
       "      <td>DE</td>\n",
       "      <td>332721</td>\n",
       "      <td>28-Feb-97</td>\n",
       "      <td>1997</td>\n",
       "      <td>...</td>\n",
       "      <td>N</td>\n",
       "      <td>N</td>\n",
       "      <td>NaN</td>\n",
       "      <td>30-Jun-97</td>\n",
       "      <td>$517,000.00</td>\n",
       "      <td>$0.00</td>\n",
       "      <td>P I F</td>\n",
       "      <td>$0.00</td>\n",
       "      <td>$517,000.00</td>\n",
       "      <td>$387,750.00</td>\n",
       "    </tr>\n",
       "    <tr>\n",
       "      <th>6</th>\n",
       "      <td>1000093009</td>\n",
       "      <td>MIDDLE ATLANTIC SPORTS CO INC</td>\n",
       "      <td>UNION</td>\n",
       "      <td>NJ</td>\n",
       "      <td>7083</td>\n",
       "      <td>WELLS FARGO BANK NATL ASSOC</td>\n",
       "      <td>SD</td>\n",
       "      <td>0</td>\n",
       "      <td>2-Jun-80</td>\n",
       "      <td>1980</td>\n",
       "      <td>...</td>\n",
       "      <td>N</td>\n",
       "      <td>N</td>\n",
       "      <td>24-Jun-91</td>\n",
       "      <td>22-Jul-80</td>\n",
       "      <td>$600,000.00</td>\n",
       "      <td>$0.00</td>\n",
       "      <td>CHGOFF</td>\n",
       "      <td>$208,959.00</td>\n",
       "      <td>$600,000.00</td>\n",
       "      <td>$499,998.00</td>\n",
       "    </tr>\n",
       "    <tr>\n",
       "      <th>7</th>\n",
       "      <td>1000094005</td>\n",
       "      <td>WEAVER PRODUCTS</td>\n",
       "      <td>SUMMERFIELD</td>\n",
       "      <td>FL</td>\n",
       "      <td>34491</td>\n",
       "      <td>REGIONS BANK</td>\n",
       "      <td>AL</td>\n",
       "      <td>811118</td>\n",
       "      <td>28-Feb-97</td>\n",
       "      <td>1997</td>\n",
       "      <td>...</td>\n",
       "      <td>N</td>\n",
       "      <td>Y</td>\n",
       "      <td>NaN</td>\n",
       "      <td>30-Jun-98</td>\n",
       "      <td>$45,000.00</td>\n",
       "      <td>$0.00</td>\n",
       "      <td>P I F</td>\n",
       "      <td>$0.00</td>\n",
       "      <td>$45,000.00</td>\n",
       "      <td>$36,000.00</td>\n",
       "    </tr>\n",
       "    <tr>\n",
       "      <th>8</th>\n",
       "      <td>1000104006</td>\n",
       "      <td>TURTLE BEACH INN</td>\n",
       "      <td>PORT SAINT JOE</td>\n",
       "      <td>FL</td>\n",
       "      <td>32456</td>\n",
       "      <td>CENTENNIAL BANK</td>\n",
       "      <td>FL</td>\n",
       "      <td>721310</td>\n",
       "      <td>28-Feb-97</td>\n",
       "      <td>1997</td>\n",
       "      <td>...</td>\n",
       "      <td>N</td>\n",
       "      <td>N</td>\n",
       "      <td>NaN</td>\n",
       "      <td>31-Jul-97</td>\n",
       "      <td>$305,000.00</td>\n",
       "      <td>$0.00</td>\n",
       "      <td>P I F</td>\n",
       "      <td>$0.00</td>\n",
       "      <td>$305,000.00</td>\n",
       "      <td>$228,750.00</td>\n",
       "    </tr>\n",
       "    <tr>\n",
       "      <th>9</th>\n",
       "      <td>1000124001</td>\n",
       "      <td>INTEXT BUILDING SYS LLC</td>\n",
       "      <td>GLASTONBURY</td>\n",
       "      <td>CT</td>\n",
       "      <td>6073</td>\n",
       "      <td>WEBSTER BANK NATL ASSOC</td>\n",
       "      <td>CT</td>\n",
       "      <td>0</td>\n",
       "      <td>28-Feb-97</td>\n",
       "      <td>1997</td>\n",
       "      <td>...</td>\n",
       "      <td>N</td>\n",
       "      <td>Y</td>\n",
       "      <td>NaN</td>\n",
       "      <td>30-Apr-97</td>\n",
       "      <td>$70,000.00</td>\n",
       "      <td>$0.00</td>\n",
       "      <td>P I F</td>\n",
       "      <td>$0.00</td>\n",
       "      <td>$70,000.00</td>\n",
       "      <td>$56,000.00</td>\n",
       "    </tr>\n",
       "  </tbody>\n",
       "</table>\n",
       "<p>10 rows × 27 columns</p>\n",
       "</div>"
      ],
      "text/plain": [
       "   LoanNr_ChkDgt                            Name            City State    Zip  \\\n",
       "0     1000014003                  ABC HOBBYCRAFT      EVANSVILLE    IN  47711   \n",
       "1     1000024006     LANDMARK BAR & GRILLE (THE)       NEW PARIS    IN  46526   \n",
       "2     1000034009           WHITLOCK DDS, TODD M.     BLOOMINGTON    IN  47401   \n",
       "3     1000044001   BIG BUCKS PAWN & JEWELRY, LLC    BROKEN ARROW    OK  74012   \n",
       "4     1000054004     ANASTASIA CONFECTIONS, INC.         ORLANDO    FL  32801   \n",
       "5     1000084002  B&T SCREW MACHINE COMPANY, INC      PLAINVILLE    CT   6062   \n",
       "6     1000093009   MIDDLE ATLANTIC SPORTS CO INC           UNION    NJ   7083   \n",
       "7     1000094005                 WEAVER PRODUCTS     SUMMERFIELD    FL  34491   \n",
       "8     1000104006                TURTLE BEACH INN  PORT SAINT JOE    FL  32456   \n",
       "9     1000124001         INTEXT BUILDING SYS LLC     GLASTONBURY    CT   6073   \n",
       "\n",
       "                            Bank BankState   NAICS ApprovalDate ApprovalFY  \\\n",
       "0               FIFTH THIRD BANK        OH  451120    28-Feb-97       1997   \n",
       "1                1ST SOURCE BANK        IN  722410    28-Feb-97       1997   \n",
       "2        GRANT COUNTY STATE BANK        IN  621210    28-Feb-97       1997   \n",
       "3  1ST NATL BK & TR CO OF BROKEN        OK       0    28-Feb-97       1997   \n",
       "4        FLORIDA BUS. DEVEL CORP        FL       0    28-Feb-97       1997   \n",
       "5  TD BANK, NATIONAL ASSOCIATION        DE  332721    28-Feb-97       1997   \n",
       "6    WELLS FARGO BANK NATL ASSOC        SD       0     2-Jun-80       1980   \n",
       "7                   REGIONS BANK        AL  811118    28-Feb-97       1997   \n",
       "8                CENTENNIAL BANK        FL  721310    28-Feb-97       1997   \n",
       "9        WEBSTER BANK NATL ASSOC        CT       0    28-Feb-97       1997   \n",
       "\n",
       "   ...  RevLineCr  LowDoc  ChgOffDate  DisbursementDate  DisbursementGross  \\\n",
       "0  ...          N       Y         NaN         28-Feb-99        $60,000.00    \n",
       "1  ...          N       Y         NaN         31-May-97        $40,000.00    \n",
       "2  ...          N       N         NaN         31-Dec-97       $287,000.00    \n",
       "3  ...          N       Y         NaN         30-Jun-97        $35,000.00    \n",
       "4  ...          N       N         NaN         14-May-97       $229,000.00    \n",
       "5  ...          N       N         NaN         30-Jun-97       $517,000.00    \n",
       "6  ...          N       N   24-Jun-91         22-Jul-80       $600,000.00    \n",
       "7  ...          N       Y         NaN         30-Jun-98        $45,000.00    \n",
       "8  ...          N       N         NaN         31-Jul-97       $305,000.00    \n",
       "9  ...          N       Y         NaN         30-Apr-97        $70,000.00    \n",
       "\n",
       "   BalanceGross  MIS_Status  ChgOffPrinGr        GrAppv      SBA_Appv  \n",
       "0        $0.00        P I F        $0.00    $60,000.00    $48,000.00   \n",
       "1        $0.00        P I F        $0.00    $40,000.00    $32,000.00   \n",
       "2        $0.00        P I F        $0.00   $287,000.00   $215,250.00   \n",
       "3        $0.00        P I F        $0.00    $35,000.00    $28,000.00   \n",
       "4        $0.00        P I F        $0.00   $229,000.00   $229,000.00   \n",
       "5        $0.00        P I F        $0.00   $517,000.00   $387,750.00   \n",
       "6        $0.00       CHGOFF  $208,959.00   $600,000.00   $499,998.00   \n",
       "7        $0.00        P I F        $0.00    $45,000.00    $36,000.00   \n",
       "8        $0.00        P I F        $0.00   $305,000.00   $228,750.00   \n",
       "9        $0.00        P I F        $0.00    $70,000.00    $56,000.00   \n",
       "\n",
       "[10 rows x 27 columns]"
      ]
     },
     "execution_count": 3,
     "metadata": {},
     "output_type": "execute_result"
    }
   ],
   "source": [
    "# Importing dataset\n",
    "\n",
    "ds_path = \"./SBAnational.csv\"\n",
    "df = pd.read_csv(ds_path)\n",
    "\n",
    "df.head(10)"
   ]
  },
  {
   "cell_type": "code",
   "execution_count": 4,
   "id": "a0cef78d",
   "metadata": {},
   "outputs": [
    {
     "data": {
      "text/plain": [
       "(899164, 27)"
      ]
     },
     "execution_count": 4,
     "metadata": {},
     "output_type": "execute_result"
    }
   ],
   "source": [
    "df.shape"
   ]
  },
  {
   "cell_type": "markdown",
   "id": "4995a375",
   "metadata": {},
   "source": [
    "#### Since the dataset is too huge we are using the first 1000 rows for this project"
   ]
  },
  {
   "cell_type": "code",
   "execution_count": 5,
   "id": "1999c80b",
   "metadata": {},
   "outputs": [],
   "source": [
    "df = df[:10000]"
   ]
  },
  {
   "cell_type": "code",
   "execution_count": 6,
   "id": "0920a5ed",
   "metadata": {},
   "outputs": [
    {
     "data": {
      "text/plain": [
       "(10000, 27)"
      ]
     },
     "execution_count": 6,
     "metadata": {},
     "output_type": "execute_result"
    }
   ],
   "source": [
    "df.shape"
   ]
  },
  {
   "cell_type": "code",
   "execution_count": 7,
   "id": "adc66480",
   "metadata": {},
   "outputs": [
    {
     "data": {
      "application/vnd.microsoft.datawrangler.viewer.v0+json": {
       "columns": [
        {
         "name": "index",
         "rawType": "object",
         "type": "string"
        },
        {
         "name": "LoanNr_ChkDgt",
         "rawType": "float64",
         "type": "float"
        },
        {
         "name": "Zip",
         "rawType": "float64",
         "type": "float"
        },
        {
         "name": "NAICS",
         "rawType": "float64",
         "type": "float"
        },
        {
         "name": "Term",
         "rawType": "float64",
         "type": "float"
        },
        {
         "name": "NoEmp",
         "rawType": "float64",
         "type": "float"
        },
        {
         "name": "NewExist",
         "rawType": "float64",
         "type": "float"
        },
        {
         "name": "CreateJob",
         "rawType": "float64",
         "type": "float"
        },
        {
         "name": "RetainedJob",
         "rawType": "float64",
         "type": "float"
        },
        {
         "name": "FranchiseCode",
         "rawType": "float64",
         "type": "float"
        },
        {
         "name": "UrbanRural",
         "rawType": "float64",
         "type": "float"
        }
       ],
       "ref": "dc6eb6ed-d0b1-4b86-9e4d-b5ec9f6c8d48",
       "rows": [
        [
         "count",
         "10000.0",
         "10000.0",
         "10000.0",
         "10000.0",
         "10000.0",
         "10000.0",
         "10000.0",
         "10000.0",
         "10000.0",
         "10000.0"
        ],
        [
         "mean",
         "1034111913.4904",
         "51338.617",
         "411505.385",
         "89.6347",
         "9.9153",
         "1.3107",
         "0.5935",
         "0.8819",
         "2131.1661",
         "0.7947"
        ],
        [
         "std",
         "19853788.736528266",
         "31042.16798132513",
         "250319.5445665759",
         "64.35728895761464",
         "130.36344038329304",
         "0.47073099405807906",
         "3.6607646564325402",
         "5.66193943325215",
         "11392.032757061112",
         "0.6817612410800314"
        ],
        [
         "min",
         "1000014003.0",
         "0.0",
         "0.0",
         "0.0",
         "0.0",
         "0.0",
         "0.0",
         "0.0",
         "0.0",
         "0.0"
        ],
        [
         "25%",
         "1016644756.0",
         "27602.25",
         "238210.0",
         "60.0",
         "2.0",
         "1.0",
         "0.0",
         "0.0",
         "1.0",
         "0.0"
        ],
        [
         "50%",
         "1034354507.0",
         "48417.0",
         "448310.0",
         "84.0",
         "3.0",
         "1.0",
         "0.0",
         "0.0",
         "1.0",
         "1.0"
        ],
        [
         "75%",
         "1050797256.5",
         "83642.0",
         "561710.0",
         "84.0",
         "8.0",
         "2.0",
         "0.0",
         "0.0",
         "1.0",
         "1.0"
        ],
        [
         "max",
         "1069785005.0",
         "99999.0",
         "928120.0",
         "358.0",
         "9992.0",
         "2.0",
         "150.0",
         "180.0",
         "91283.0",
         "2.0"
        ]
       ],
       "shape": {
        "columns": 10,
        "rows": 8
       }
      },
      "text/html": [
       "<div>\n",
       "<style scoped>\n",
       "    .dataframe tbody tr th:only-of-type {\n",
       "        vertical-align: middle;\n",
       "    }\n",
       "\n",
       "    .dataframe tbody tr th {\n",
       "        vertical-align: top;\n",
       "    }\n",
       "\n",
       "    .dataframe thead th {\n",
       "        text-align: right;\n",
       "    }\n",
       "</style>\n",
       "<table border=\"1\" class=\"dataframe\">\n",
       "  <thead>\n",
       "    <tr style=\"text-align: right;\">\n",
       "      <th></th>\n",
       "      <th>LoanNr_ChkDgt</th>\n",
       "      <th>Zip</th>\n",
       "      <th>NAICS</th>\n",
       "      <th>Term</th>\n",
       "      <th>NoEmp</th>\n",
       "      <th>NewExist</th>\n",
       "      <th>CreateJob</th>\n",
       "      <th>RetainedJob</th>\n",
       "      <th>FranchiseCode</th>\n",
       "      <th>UrbanRural</th>\n",
       "    </tr>\n",
       "  </thead>\n",
       "  <tbody>\n",
       "    <tr>\n",
       "      <th>count</th>\n",
       "      <td>1.000000e+04</td>\n",
       "      <td>10000.000000</td>\n",
       "      <td>10000.000000</td>\n",
       "      <td>10000.000000</td>\n",
       "      <td>10000.00000</td>\n",
       "      <td>10000.000000</td>\n",
       "      <td>10000.000000</td>\n",
       "      <td>10000.000000</td>\n",
       "      <td>10000.000000</td>\n",
       "      <td>10000.000000</td>\n",
       "    </tr>\n",
       "    <tr>\n",
       "      <th>mean</th>\n",
       "      <td>1.034112e+09</td>\n",
       "      <td>51338.617000</td>\n",
       "      <td>411505.385000</td>\n",
       "      <td>89.634700</td>\n",
       "      <td>9.91530</td>\n",
       "      <td>1.310700</td>\n",
       "      <td>0.593500</td>\n",
       "      <td>0.881900</td>\n",
       "      <td>2131.166100</td>\n",
       "      <td>0.794700</td>\n",
       "    </tr>\n",
       "    <tr>\n",
       "      <th>std</th>\n",
       "      <td>1.985379e+07</td>\n",
       "      <td>31042.167981</td>\n",
       "      <td>250319.544567</td>\n",
       "      <td>64.357289</td>\n",
       "      <td>130.36344</td>\n",
       "      <td>0.470731</td>\n",
       "      <td>3.660765</td>\n",
       "      <td>5.661939</td>\n",
       "      <td>11392.032757</td>\n",
       "      <td>0.681761</td>\n",
       "    </tr>\n",
       "    <tr>\n",
       "      <th>min</th>\n",
       "      <td>1.000014e+09</td>\n",
       "      <td>0.000000</td>\n",
       "      <td>0.000000</td>\n",
       "      <td>0.000000</td>\n",
       "      <td>0.00000</td>\n",
       "      <td>0.000000</td>\n",
       "      <td>0.000000</td>\n",
       "      <td>0.000000</td>\n",
       "      <td>0.000000</td>\n",
       "      <td>0.000000</td>\n",
       "    </tr>\n",
       "    <tr>\n",
       "      <th>25%</th>\n",
       "      <td>1.016645e+09</td>\n",
       "      <td>27602.250000</td>\n",
       "      <td>238210.000000</td>\n",
       "      <td>60.000000</td>\n",
       "      <td>2.00000</td>\n",
       "      <td>1.000000</td>\n",
       "      <td>0.000000</td>\n",
       "      <td>0.000000</td>\n",
       "      <td>1.000000</td>\n",
       "      <td>0.000000</td>\n",
       "    </tr>\n",
       "    <tr>\n",
       "      <th>50%</th>\n",
       "      <td>1.034355e+09</td>\n",
       "      <td>48417.000000</td>\n",
       "      <td>448310.000000</td>\n",
       "      <td>84.000000</td>\n",
       "      <td>3.00000</td>\n",
       "      <td>1.000000</td>\n",
       "      <td>0.000000</td>\n",
       "      <td>0.000000</td>\n",
       "      <td>1.000000</td>\n",
       "      <td>1.000000</td>\n",
       "    </tr>\n",
       "    <tr>\n",
       "      <th>75%</th>\n",
       "      <td>1.050797e+09</td>\n",
       "      <td>83642.000000</td>\n",
       "      <td>561710.000000</td>\n",
       "      <td>84.000000</td>\n",
       "      <td>8.00000</td>\n",
       "      <td>2.000000</td>\n",
       "      <td>0.000000</td>\n",
       "      <td>0.000000</td>\n",
       "      <td>1.000000</td>\n",
       "      <td>1.000000</td>\n",
       "    </tr>\n",
       "    <tr>\n",
       "      <th>max</th>\n",
       "      <td>1.069785e+09</td>\n",
       "      <td>99999.000000</td>\n",
       "      <td>928120.000000</td>\n",
       "      <td>358.000000</td>\n",
       "      <td>9992.00000</td>\n",
       "      <td>2.000000</td>\n",
       "      <td>150.000000</td>\n",
       "      <td>180.000000</td>\n",
       "      <td>91283.000000</td>\n",
       "      <td>2.000000</td>\n",
       "    </tr>\n",
       "  </tbody>\n",
       "</table>\n",
       "</div>"
      ],
      "text/plain": [
       "       LoanNr_ChkDgt           Zip          NAICS          Term        NoEmp  \\\n",
       "count   1.000000e+04  10000.000000   10000.000000  10000.000000  10000.00000   \n",
       "mean    1.034112e+09  51338.617000  411505.385000     89.634700      9.91530   \n",
       "std     1.985379e+07  31042.167981  250319.544567     64.357289    130.36344   \n",
       "min     1.000014e+09      0.000000       0.000000      0.000000      0.00000   \n",
       "25%     1.016645e+09  27602.250000  238210.000000     60.000000      2.00000   \n",
       "50%     1.034355e+09  48417.000000  448310.000000     84.000000      3.00000   \n",
       "75%     1.050797e+09  83642.000000  561710.000000     84.000000      8.00000   \n",
       "max     1.069785e+09  99999.000000  928120.000000    358.000000   9992.00000   \n",
       "\n",
       "           NewExist     CreateJob   RetainedJob  FranchiseCode    UrbanRural  \n",
       "count  10000.000000  10000.000000  10000.000000   10000.000000  10000.000000  \n",
       "mean       1.310700      0.593500      0.881900    2131.166100      0.794700  \n",
       "std        0.470731      3.660765      5.661939   11392.032757      0.681761  \n",
       "min        0.000000      0.000000      0.000000       0.000000      0.000000  \n",
       "25%        1.000000      0.000000      0.000000       1.000000      0.000000  \n",
       "50%        1.000000      0.000000      0.000000       1.000000      1.000000  \n",
       "75%        2.000000      0.000000      0.000000       1.000000      1.000000  \n",
       "max        2.000000    150.000000    180.000000   91283.000000      2.000000  "
      ]
     },
     "execution_count": 7,
     "metadata": {},
     "output_type": "execute_result"
    }
   ],
   "source": [
    "df.describe()"
   ]
  },
  {
   "cell_type": "code",
   "execution_count": 8,
   "id": "607ecb60",
   "metadata": {},
   "outputs": [
    {
     "name": "stdout",
     "output_type": "stream",
     "text": [
      "<class 'pandas.core.frame.DataFrame'>\n",
      "RangeIndex: 10000 entries, 0 to 9999\n",
      "Data columns (total 27 columns):\n",
      " #   Column             Non-Null Count  Dtype  \n",
      "---  ------             --------------  -----  \n",
      " 0   LoanNr_ChkDgt      10000 non-null  int64  \n",
      " 1   Name               9996 non-null   object \n",
      " 2   City               10000 non-null  object \n",
      " 3   State              10000 non-null  object \n",
      " 4   Zip                10000 non-null  int64  \n",
      " 5   Bank               9994 non-null   object \n",
      " 6   BankState          9994 non-null   object \n",
      " 7   NAICS              10000 non-null  int64  \n",
      " 8   ApprovalDate       10000 non-null  object \n",
      " 9   ApprovalFY         10000 non-null  object \n",
      " 10  Term               10000 non-null  int64  \n",
      " 11  NoEmp              10000 non-null  int64  \n",
      " 12  NewExist           10000 non-null  float64\n",
      " 13  CreateJob          10000 non-null  int64  \n",
      " 14  RetainedJob        10000 non-null  int64  \n",
      " 15  FranchiseCode      10000 non-null  int64  \n",
      " 16  UrbanRural         10000 non-null  int64  \n",
      " 17  RevLineCr          9999 non-null   object \n",
      " 18  LowDoc             10000 non-null  object \n",
      " 19  ChgOffDate         1947 non-null   object \n",
      " 20  DisbursementDate   9984 non-null   object \n",
      " 21  DisbursementGross  10000 non-null  object \n",
      " 22  BalanceGross       10000 non-null  object \n",
      " 23  MIS_Status         9979 non-null   object \n",
      " 24  ChgOffPrinGr       10000 non-null  object \n",
      " 25  GrAppv             10000 non-null  object \n",
      " 26  SBA_Appv           10000 non-null  object \n",
      "dtypes: float64(1), int64(9), object(17)\n",
      "memory usage: 2.1+ MB\n"
     ]
    }
   ],
   "source": [
    "df.info()"
   ]
  },
  {
   "cell_type": "markdown",
   "id": "ae35d4d3",
   "metadata": {},
   "source": [
    "### Taking care of missing values"
   ]
  },
  {
   "cell_type": "code",
   "execution_count": 9,
   "id": "96c16238",
   "metadata": {},
   "outputs": [],
   "source": [
    "numOfMissingValues = df.isnull().sum()"
   ]
  },
  {
   "cell_type": "code",
   "execution_count": 10,
   "id": "a1dd09e0",
   "metadata": {},
   "outputs": [
    {
     "data": {
      "image/png": "[encoded data removed]",
      "text/plain": [
       "<Figure size 640x480 with 1 Axes>"
      ]
     },
     "metadata": {},
     "output_type": "display_data"
    }
   ],
   "source": [
    "plt.title(\"Missing values\")\n",
    "plt.barh(\n",
    "    (numOfMissingValues / len(df) * 100).index,\n",
    "    (numOfMissingValues / len(df) * 100).values,\n",
    ")\n",
    "plt.grid(True)\n",
    "plt.show()"
   ]
  },
  {
   "cell_type": "code",
   "execution_count": 11,
   "id": "f475cd8d",
   "metadata": {},
   "outputs": [
    {
     "data": {
      "text/plain": [
       "0"
      ]
     },
     "execution_count": 11,
     "metadata": {},
     "output_type": "execute_result"
    }
   ],
   "source": [
    "df.duplicated().sum()"
   ]
  },
  {
   "cell_type": "code",
   "execution_count": 12,
   "id": "5476b9a3",
   "metadata": {},
   "outputs": [
    {
     "data": {
      "application/vnd.microsoft.datawrangler.viewer.v0+json": {
       "columns": [
        {
         "name": "index",
         "rawType": "object",
         "type": "string"
        },
        {
         "name": "0",
         "rawType": "object",
         "type": "unknown"
        }
       ],
       "ref": "ca994998-314d-4343-af88-b7eff9af1710",
       "rows": [
        [
         "LoanNr_ChkDgt",
         "int64"
        ],
        [
         "Name",
         "object"
        ],
        [
         "City",
         "object"
        ],
        [
         "State",
         "object"
        ],
        [
         "Zip",
         "int64"
        ],
        [
         "Bank",
         "object"
        ],
        [
         "BankState",
         "object"
        ],
        [
         "NAICS",
         "int64"
        ],
        [
         "ApprovalDate",
         "object"
        ],
        [
         "ApprovalFY",
         "object"
        ],
        [
         "Term",
         "int64"
        ],
        [
         "NoEmp",
         "int64"
        ],
        [
         "NewExist",
         "float64"
        ],
        [
         "CreateJob",
         "int64"
        ],
        [
         "RetainedJob",
         "int64"
        ],
        [
         "FranchiseCode",
         "int64"
        ],
        [
         "UrbanRural",
         "int64"
        ],
        [
         "RevLineCr",
         "object"
        ],
        [
         "LowDoc",
         "object"
        ],
        [
         "ChgOffDate",
         "object"
        ],
        [
         "DisbursementDate",
         "object"
        ],
        [
         "DisbursementGross",
         "object"
        ],
        [
         "BalanceGross",
         "object"
        ],
        [
         "MIS_Status",
         "object"
        ],
        [
         "ChgOffPrinGr",
         "object"
        ],
        [
         "GrAppv",
         "object"
        ],
        [
         "SBA_Appv",
         "object"
        ]
       ],
       "shape": {
        "columns": 1,
        "rows": 27
       }
      },
      "text/plain": [
       "LoanNr_ChkDgt          int64\n",
       "Name                  object\n",
       "City                  object\n",
       "State                 object\n",
       "Zip                    int64\n",
       "Bank                  object\n",
       "BankState             object\n",
       "NAICS                  int64\n",
       "ApprovalDate          object\n",
       "ApprovalFY            object\n",
       "Term                   int64\n",
       "NoEmp                  int64\n",
       "NewExist             float64\n",
       "CreateJob              int64\n",
       "RetainedJob            int64\n",
       "FranchiseCode          int64\n",
       "UrbanRural             int64\n",
       "RevLineCr             object\n",
       "LowDoc                object\n",
       "ChgOffDate            object\n",
       "DisbursementDate      object\n",
       "DisbursementGross     object\n",
       "BalanceGross          object\n",
       "MIS_Status            object\n",
       "ChgOffPrinGr          object\n",
       "GrAppv                object\n",
       "SBA_Appv              object\n",
       "dtype: object"
      ]
     },
     "execution_count": 12,
     "metadata": {},
     "output_type": "execute_result"
    }
   ],
   "source": [
    "df.dtypes"
   ]
  },
  {
   "cell_type": "code",
   "execution_count": 13,
   "id": "86429059",
   "metadata": {},
   "outputs": [],
   "source": [
    "numerical_columns = [f for f in df.columns if df[f].dtype != \"O\"]"
   ]
  },
  {
   "cell_type": "code",
   "execution_count": 14,
   "id": "f28c9a9a",
   "metadata": {},
   "outputs": [
    {
     "data": {
      "text/plain": [
       "['LoanNr_ChkDgt',\n",
       " 'Zip',\n",
       " 'NAICS',\n",
       " 'Term',\n",
       " 'NoEmp',\n",
       " 'NewExist',\n",
       " 'CreateJob',\n",
       " 'RetainedJob',\n",
       " 'FranchiseCode',\n",
       " 'UrbanRural']"
      ]
     },
     "execution_count": 14,
     "metadata": {},
     "output_type": "execute_result"
    }
   ],
   "source": [
    "numerical_columns"
   ]
  },
  {
   "cell_type": "code",
   "execution_count": 15,
   "id": "32a92d4f",
   "metadata": {},
   "outputs": [
    {
     "data": {
      "application/vnd.microsoft.datawrangler.viewer.v0+json": {
       "columns": [
        {
         "name": "index",
         "rawType": "int64",
         "type": "integer"
        },
        {
         "name": "LoanNr_ChkDgt",
         "rawType": "int64",
         "type": "integer"
        },
        {
         "name": "Zip",
         "rawType": "int64",
         "type": "integer"
        },
        {
         "name": "NAICS",
         "rawType": "int64",
         "type": "integer"
        },
        {
         "name": "Term",
         "rawType": "int64",
         "type": "integer"
        },
        {
         "name": "NoEmp",
         "rawType": "int64",
         "type": "integer"
        },
        {
         "name": "NewExist",
         "rawType": "float64",
         "type": "float"
        },
        {
         "name": "CreateJob",
         "rawType": "int64",
         "type": "integer"
        },
        {
         "name": "RetainedJob",
         "rawType": "int64",
         "type": "integer"
        },
        {
         "name": "FranchiseCode",
         "rawType": "int64",
         "type": "integer"
        },
        {
         "name": "UrbanRural",
         "rawType": "int64",
         "type": "integer"
        }
       ],
       "ref": "d6330aae-4344-4bb2-8b85-bc16a94d3dbd",
       "rows": [
        [
         "0",
         "1000014003",
         "47711",
         "451120",
         "84",
         "4",
         "2.0",
         "0",
         "0",
         "1",
         "0"
        ],
        [
         "1",
         "1000024006",
         "46526",
         "722410",
         "60",
         "2",
         "2.0",
         "0",
         "0",
         "1",
         "0"
        ],
        [
         "2",
         "1000034009",
         "47401",
         "621210",
         "180",
         "7",
         "1.0",
         "0",
         "0",
         "1",
         "0"
        ],
        [
         "3",
         "1000044001",
         "74012",
         "0",
         "60",
         "2",
         "1.0",
         "0",
         "0",
         "1",
         "0"
        ],
        [
         "4",
         "1000054004",
         "32801",
         "0",
         "240",
         "14",
         "1.0",
         "7",
         "7",
         "1",
         "0"
        ],
        [
         "5",
         "1000084002",
         "6062",
         "332721",
         "120",
         "19",
         "1.0",
         "0",
         "0",
         "1",
         "0"
        ],
        [
         "6",
         "1000093009",
         "7083",
         "0",
         "45",
         "45",
         "2.0",
         "0",
         "0",
         "0",
         "0"
        ],
        [
         "7",
         "1000094005",
         "34491",
         "811118",
         "84",
         "1",
         "2.0",
         "0",
         "0",
         "1",
         "0"
        ],
        [
         "8",
         "1000104006",
         "32456",
         "721310",
         "297",
         "2",
         "2.0",
         "0",
         "0",
         "1",
         "0"
        ],
        [
         "9",
         "1000124001",
         "6073",
         "0",
         "84",
         "3",
         "2.0",
         "0",
         "0",
         "1",
         "0"
        ]
       ],
       "shape": {
        "columns": 10,
        "rows": 10
       }
      },
      "text/html": [
       "<div>\n",
       "<style scoped>\n",
       "    .dataframe tbody tr th:only-of-type {\n",
       "        vertical-align: middle;\n",
       "    }\n",
       "\n",
       "    .dataframe tbody tr th {\n",
       "        vertical-align: top;\n",
       "    }\n",
       "\n",
       "    .dataframe thead th {\n",
       "        text-align: right;\n",
       "    }\n",
       "</style>\n",
       "<table border=\"1\" class=\"dataframe\">\n",
       "  <thead>\n",
       "    <tr style=\"text-align: right;\">\n",
       "      <th></th>\n",
       "      <th>LoanNr_ChkDgt</th>\n",
       "      <th>Zip</th>\n",
       "      <th>NAICS</th>\n",
       "      <th>Term</th>\n",
       "      <th>NoEmp</th>\n",
       "      <th>NewExist</th>\n",
       "      <th>CreateJob</th>\n",
       "      <th>RetainedJob</th>\n",
       "      <th>FranchiseCode</th>\n",
       "      <th>UrbanRural</th>\n",
       "    </tr>\n",
       "  </thead>\n",
       "  <tbody>\n",
       "    <tr>\n",
       "      <th>0</th>\n",
       "      <td>1000014003</td>\n",
       "      <td>47711</td>\n",
       "      <td>451120</td>\n",
       "      <td>84</td>\n",
       "      <td>4</td>\n",
       "      <td>2.0</td>\n",
       "      <td>0</td>\n",
       "      <td>0</td>\n",
       "      <td>1</td>\n",
       "      <td>0</td>\n",
       "    </tr>\n",
       "    <tr>\n",
       "      <th>1</th>\n",
       "      <td>1000024006</td>\n",
       "      <td>46526</td>\n",
       "      <td>722410</td>\n",
       "      <td>60</td>\n",
       "      <td>2</td>\n",
       "      <td>2.0</td>\n",
       "      <td>0</td>\n",
       "      <td>0</td>\n",
       "      <td>1</td>\n",
       "      <td>0</td>\n",
       "    </tr>\n",
       "    <tr>\n",
       "      <th>2</th>\n",
       "      <td>1000034009</td>\n",
       "      <td>47401</td>\n",
       "      <td>621210</td>\n",
       "      <td>180</td>\n",
       "      <td>7</td>\n",
       "      <td>1.0</td>\n",
       "      <td>0</td>\n",
       "      <td>0</td>\n",
       "      <td>1</td>\n",
       "      <td>0</td>\n",
       "    </tr>\n",
       "    <tr>\n",
       "      <th>3</th>\n",
       "      <td>1000044001</td>\n",
       "      <td>74012</td>\n",
       "      <td>0</td>\n",
       "      <td>60</td>\n",
       "      <td>2</td>\n",
       "      <td>1.0</td>\n",
       "      <td>0</td>\n",
       "      <td>0</td>\n",
       "      <td>1</td>\n",
       "      <td>0</td>\n",
       "    </tr>\n",
       "    <tr>\n",
       "      <th>4</th>\n",
       "      <td>1000054004</td>\n",
       "      <td>32801</td>\n",
       "      <td>0</td>\n",
       "      <td>240</td>\n",
       "      <td>14</td>\n",
       "      <td>1.0</td>\n",
       "      <td>7</td>\n",
       "      <td>7</td>\n",
       "      <td>1</td>\n",
       "      <td>0</td>\n",
       "    </tr>\n",
       "    <tr>\n",
       "      <th>5</th>\n",
       "      <td>1000084002</td>\n",
       "      <td>6062</td>\n",
       "      <td>332721</td>\n",
       "      <td>120</td>\n",
       "      <td>19</td>\n",
       "      <td>1.0</td>\n",
       "      <td>0</td>\n",
       "      <td>0</td>\n",
       "      <td>1</td>\n",
       "      <td>0</td>\n",
       "    </tr>\n",
       "    <tr>\n",
       "      <th>6</th>\n",
       "      <td>1000093009</td>\n",
       "      <td>7083</td>\n",
       "      <td>0</td>\n",
       "      <td>45</td>\n",
       "      <td>45</td>\n",
       "      <td>2.0</td>\n",
       "      <td>0</td>\n",
       "      <td>0</td>\n",
       "      <td>0</td>\n",
       "      <td>0</td>\n",
       "    </tr>\n",
       "    <tr>\n",
       "      <th>7</th>\n",
       "      <td>1000094005</td>\n",
       "      <td>34491</td>\n",
       "      <td>811118</td>\n",
       "      <td>84</td>\n",
       "      <td>1</td>\n",
       "      <td>2.0</td>\n",
       "      <td>0</td>\n",
       "      <td>0</td>\n",
       "      <td>1</td>\n",
       "      <td>0</td>\n",
       "    </tr>\n",
       "    <tr>\n",
       "      <th>8</th>\n",
       "      <td>1000104006</td>\n",
       "      <td>32456</td>\n",
       "      <td>721310</td>\n",
       "      <td>297</td>\n",
       "      <td>2</td>\n",
       "      <td>2.0</td>\n",
       "      <td>0</td>\n",
       "      <td>0</td>\n",
       "      <td>1</td>\n",
       "      <td>0</td>\n",
       "    </tr>\n",
       "    <tr>\n",
       "      <th>9</th>\n",
       "      <td>1000124001</td>\n",
       "      <td>6073</td>\n",
       "      <td>0</td>\n",
       "      <td>84</td>\n",
       "      <td>3</td>\n",
       "      <td>2.0</td>\n",
       "      <td>0</td>\n",
       "      <td>0</td>\n",
       "      <td>1</td>\n",
       "      <td>0</td>\n",
       "    </tr>\n",
       "  </tbody>\n",
       "</table>\n",
       "</div>"
      ],
      "text/plain": [
       "   LoanNr_ChkDgt    Zip   NAICS  Term  NoEmp  NewExist  CreateJob  \\\n",
       "0     1000014003  47711  451120    84      4       2.0          0   \n",
       "1     1000024006  46526  722410    60      2       2.0          0   \n",
       "2     1000034009  47401  621210   180      7       1.0          0   \n",
       "3     1000044001  74012       0    60      2       1.0          0   \n",
       "4     1000054004  32801       0   240     14       1.0          7   \n",
       "5     1000084002   6062  332721   120     19       1.0          0   \n",
       "6     1000093009   7083       0    45     45       2.0          0   \n",
       "7     1000094005  34491  811118    84      1       2.0          0   \n",
       "8     1000104006  32456  721310   297      2       2.0          0   \n",
       "9     1000124001   6073       0    84      3       2.0          0   \n",
       "\n",
       "   RetainedJob  FranchiseCode  UrbanRural  \n",
       "0            0              1           0  \n",
       "1            0              1           0  \n",
       "2            0              1           0  \n",
       "3            0              1           0  \n",
       "4            7              1           0  \n",
       "5            0              1           0  \n",
       "6            0              0           0  \n",
       "7            0              1           0  \n",
       "8            0              1           0  \n",
       "9            0              1           0  "
      ]
     },
     "execution_count": 15,
     "metadata": {},
     "output_type": "execute_result"
    }
   ],
   "source": [
    "df[numerical_columns].head(10)"
   ]
  },
  {
   "cell_type": "code",
   "execution_count": 16,
   "id": "1d25a208",
   "metadata": {},
   "outputs": [
    {
     "data": {
      "application/vnd.microsoft.datawrangler.viewer.v0+json": {
       "columns": [
        {
         "name": "index",
         "rawType": "object",
         "type": "string"
        },
        {
         "name": "0",
         "rawType": "int64",
         "type": "integer"
        }
       ],
       "ref": "ed6fc5ea-f4ec-42d9-acf5-31d779eb06da",
       "rows": [
        [
         "LoanNr_ChkDgt",
         "0"
        ],
        [
         "Zip",
         "0"
        ],
        [
         "NAICS",
         "0"
        ],
        [
         "Term",
         "0"
        ],
        [
         "NoEmp",
         "0"
        ],
        [
         "NewExist",
         "0"
        ],
        [
         "CreateJob",
         "0"
        ],
        [
         "RetainedJob",
         "0"
        ],
        [
         "FranchiseCode",
         "0"
        ],
        [
         "UrbanRural",
         "0"
        ]
       ],
       "shape": {
        "columns": 1,
        "rows": 10
       }
      },
      "text/plain": [
       "LoanNr_ChkDgt    0\n",
       "Zip              0\n",
       "NAICS            0\n",
       "Term             0\n",
       "NoEmp            0\n",
       "NewExist         0\n",
       "CreateJob        0\n",
       "RetainedJob      0\n",
       "FranchiseCode    0\n",
       "UrbanRural       0\n",
       "dtype: int64"
      ]
     },
     "execution_count": 16,
     "metadata": {},
     "output_type": "execute_result"
    }
   ],
   "source": [
    "df[numerical_columns].isnull().sum()"
   ]
  },
  {
   "cell_type": "code",
   "execution_count": 17,
   "id": "3283c8f7",
   "metadata": {},
   "outputs": [
    {
     "name": "stdout",
     "output_type": "stream",
     "text": [
      "LoanNr_ChkDgt 10000\n",
      "Zip 5691\n",
      "NAICS 807\n",
      "Term 246\n",
      "NoEmp 117\n",
      "NewExist 3\n",
      "CreateJob 44\n",
      "RetainedJob 56\n",
      "FranchiseCode 250\n",
      "UrbanRural 3\n"
     ]
    }
   ],
   "source": [
    "for f in numerical_columns:\n",
    "    print(f, df[f].nunique())"
   ]
  },
  {
   "cell_type": "code",
   "execution_count": 18,
   "id": "f99b56a3",
   "metadata": {},
   "outputs": [
    {
     "data": {
      "application/vnd.microsoft.datawrangler.viewer.v0+json": {
       "columns": [
        {
         "name": "UrbanRural",
         "rawType": "int64",
         "type": "integer"
        },
        {
         "name": "count",
         "rawType": "int64",
         "type": "integer"
        }
       ],
       "ref": "8a43435f-45f3-4a6e-b4d6-48364e0459ec",
       "rows": [
        [
         "1",
         "4931"
        ],
        [
         "0",
         "3561"
        ],
        [
         "2",
         "1508"
        ]
       ],
       "shape": {
        "columns": 1,
        "rows": 3
       }
      },
      "text/plain": [
       "UrbanRural\n",
       "1    4931\n",
       "0    3561\n",
       "2    1508\n",
       "Name: count, dtype: int64"
      ]
     },
     "execution_count": 18,
     "metadata": {},
     "output_type": "execute_result"
    }
   ],
   "source": [
    "df['UrbanRural'].value_counts()"
   ]
  },
  {
   "cell_type": "code",
   "execution_count": 19,
   "id": "07502f01",
   "metadata": {},
   "outputs": [],
   "source": [
    "categorical_columns = [f for f in df.columns if df[f].dtype == \"O\"]"
   ]
  },
  {
   "cell_type": "code",
   "execution_count": 20,
   "id": "7d0b2029",
   "metadata": {},
   "outputs": [
    {
     "data": {
      "text/plain": [
       "['Name',\n",
       " 'City',\n",
       " 'State',\n",
       " 'Bank',\n",
       " 'BankState',\n",
       " 'ApprovalDate',\n",
       " 'ApprovalFY',\n",
       " 'RevLineCr',\n",
       " 'LowDoc',\n",
       " 'ChgOffDate',\n",
       " 'DisbursementDate',\n",
       " 'DisbursementGross',\n",
       " 'BalanceGross',\n",
       " 'MIS_Status',\n",
       " 'ChgOffPrinGr',\n",
       " 'GrAppv',\n",
       " 'SBA_Appv']"
      ]
     },
     "execution_count": 20,
     "metadata": {},
     "output_type": "execute_result"
    }
   ],
   "source": [
    "categorical_columns"
   ]
  },
  {
   "cell_type": "code",
   "execution_count": 21,
   "id": "267cad60",
   "metadata": {},
   "outputs": [
    {
     "data": {
      "application/vnd.microsoft.datawrangler.viewer.v0+json": {
       "columns": [
        {
         "name": "index",
         "rawType": "int64",
         "type": "integer"
        },
        {
         "name": "Name",
         "rawType": "object",
         "type": "string"
        },
        {
         "name": "City",
         "rawType": "object",
         "type": "string"
        },
        {
         "name": "State",
         "rawType": "object",
         "type": "string"
        },
        {
         "name": "Bank",
         "rawType": "object",
         "type": "string"
        },
        {
         "name": "BankState",
         "rawType": "object",
         "type": "string"
        },
        {
         "name": "ApprovalDate",
         "rawType": "object",
         "type": "string"
        },
        {
         "name": "ApprovalFY",
         "rawType": "object",
         "type": "unknown"
        },
        {
         "name": "RevLineCr",
         "rawType": "object",
         "type": "string"
        },
        {
         "name": "LowDoc",
         "rawType": "object",
         "type": "string"
        },
        {
         "name": "ChgOffDate",
         "rawType": "object",
         "type": "unknown"
        },
        {
         "name": "DisbursementDate",
         "rawType": "object",
         "type": "string"
        },
        {
         "name": "DisbursementGross",
         "rawType": "object",
         "type": "string"
        },
        {
         "name": "BalanceGross",
         "rawType": "object",
         "type": "string"
        },
        {
         "name": "MIS_Status",
         "rawType": "object",
         "type": "string"
        },
        {
         "name": "ChgOffPrinGr",
         "rawType": "object",
         "type": "string"
        },
        {
         "name": "GrAppv",
         "rawType": "object",
         "type": "string"
        },
        {
         "name": "SBA_Appv",
         "rawType": "object",
         "type": "string"
        }
       ],
       "ref": "8254bb6d-25db-40af-96e9-eb572e9f2d7c",
       "rows": [
        [
         "0",
         "ABC HOBBYCRAFT",
         "EVANSVILLE",
         "IN",
         "FIFTH THIRD BANK",
         "OH",
         "28-Feb-97",
         "1997",
         "N",
         "Y",
         null,
         "28-Feb-99",
         "$60,000.00 ",
         "$0.00 ",
         "P I F",
         "$0.00 ",
         "$60,000.00 ",
         "$48,000.00 "
        ],
        [
         "1",
         "LANDMARK BAR & GRILLE (THE)",
         "NEW PARIS",
         "IN",
         "1ST SOURCE BANK",
         "IN",
         "28-Feb-97",
         "1997",
         "N",
         "Y",
         null,
         "31-May-97",
         "$40,000.00 ",
         "$0.00 ",
         "P I F",
         "$0.00 ",
         "$40,000.00 ",
         "$32,000.00 "
        ],
        [
         "2",
         "WHITLOCK DDS, TODD M.",
         "BLOOMINGTON",
         "IN",
         "GRANT COUNTY STATE BANK",
         "IN",
         "28-Feb-97",
         "1997",
         "N",
         "N",
         null,
         "31-Dec-97",
         "$287,000.00 ",
         "$0.00 ",
         "P I F",
         "$0.00 ",
         "$287,000.00 ",
         "$215,250.00 "
        ],
        [
         "3",
         "BIG BUCKS PAWN & JEWELRY, LLC",
         "BROKEN ARROW",
         "OK",
         "1ST NATL BK & TR CO OF BROKEN",
         "OK",
         "28-Feb-97",
         "1997",
         "N",
         "Y",
         null,
         "30-Jun-97",
         "$35,000.00 ",
         "$0.00 ",
         "P I F",
         "$0.00 ",
         "$35,000.00 ",
         "$28,000.00 "
        ],
        [
         "4",
         "ANASTASIA CONFECTIONS, INC.",
         "ORLANDO",
         "FL",
         "FLORIDA BUS. DEVEL CORP",
         "FL",
         "28-Feb-97",
         "1997",
         "N",
         "N",
         null,
         "14-May-97",
         "$229,000.00 ",
         "$0.00 ",
         "P I F",
         "$0.00 ",
         "$229,000.00 ",
         "$229,000.00 "
        ],
        [
         "5",
         "B&T SCREW MACHINE COMPANY, INC",
         "PLAINVILLE",
         "CT",
         "TD BANK, NATIONAL ASSOCIATION",
         "DE",
         "28-Feb-97",
         "1997",
         "N",
         "N",
         null,
         "30-Jun-97",
         "$517,000.00 ",
         "$0.00 ",
         "P I F",
         "$0.00 ",
         "$517,000.00 ",
         "$387,750.00 "
        ],
        [
         "6",
         "MIDDLE ATLANTIC SPORTS CO INC",
         "UNION",
         "NJ",
         "WELLS FARGO BANK NATL ASSOC",
         "SD",
         "2-Jun-80",
         "1980",
         "N",
         "N",
         "24-Jun-91",
         "22-Jul-80",
         "$600,000.00 ",
         "$0.00 ",
         "CHGOFF",
         "$208,959.00 ",
         "$600,000.00 ",
         "$499,998.00 "
        ],
        [
         "7",
         "WEAVER PRODUCTS",
         "SUMMERFIELD",
         "FL",
         "REGIONS BANK",
         "AL",
         "28-Feb-97",
         "1997",
         "N",
         "Y",
         null,
         "30-Jun-98",
         "$45,000.00 ",
         "$0.00 ",
         "P I F",
         "$0.00 ",
         "$45,000.00 ",
         "$36,000.00 "
        ],
        [
         "8",
         "TURTLE BEACH INN",
         "PORT SAINT JOE",
         "FL",
         "CENTENNIAL BANK",
         "FL",
         "28-Feb-97",
         "1997",
         "N",
         "N",
         null,
         "31-Jul-97",
         "$305,000.00 ",
         "$0.00 ",
         "P I F",
         "$0.00 ",
         "$305,000.00 ",
         "$228,750.00 "
        ],
        [
         "9",
         "INTEXT BUILDING SYS LLC",
         "GLASTONBURY",
         "CT",
         "WEBSTER BANK NATL ASSOC",
         "CT",
         "28-Feb-97",
         "1997",
         "N",
         "Y",
         null,
         "30-Apr-97",
         "$70,000.00 ",
         "$0.00 ",
         "P I F",
         "$0.00 ",
         "$70,000.00 ",
         "$56,000.00 "
        ]
       ],
       "shape": {
        "columns": 17,
        "rows": 10
       }
      },
      "text/html": [
       "<div>\n",
       "<style scoped>\n",
       "    .dataframe tbody tr th:only-of-type {\n",
       "        vertical-align: middle;\n",
       "    }\n",
       "\n",
       "    .dataframe tbody tr th {\n",
       "        vertical-align: top;\n",
       "    }\n",
       "\n",
       "    .dataframe thead th {\n",
       "        text-align: right;\n",
       "    }\n",
       "</style>\n",
       "<table border=\"1\" class=\"dataframe\">\n",
       "  <thead>\n",
       "    <tr style=\"text-align: right;\">\n",
       "      <th></th>\n",
       "      <th>Name</th>\n",
       "      <th>City</th>\n",
       "      <th>State</th>\n",
       "      <th>Bank</th>\n",
       "      <th>BankState</th>\n",
       "      <th>ApprovalDate</th>\n",
       "      <th>ApprovalFY</th>\n",
       "      <th>RevLineCr</th>\n",
       "      <th>LowDoc</th>\n",
       "      <th>ChgOffDate</th>\n",
       "      <th>DisbursementDate</th>\n",
       "      <th>DisbursementGross</th>\n",
       "      <th>BalanceGross</th>\n",
       "      <th>MIS_Status</th>\n",
       "      <th>ChgOffPrinGr</th>\n",
       "      <th>GrAppv</th>\n",
       "      <th>SBA_Appv</th>\n",
       "    </tr>\n",
       "  </thead>\n",
       "  <tbody>\n",
       "    <tr>\n",
       "      <th>0</th>\n",
       "      <td>ABC HOBBYCRAFT</td>\n",
       "      <td>EVANSVILLE</td>\n",
       "      <td>IN</td>\n",
       "      <td>FIFTH THIRD BANK</td>\n",
       "      <td>OH</td>\n",
       "      <td>28-Feb-97</td>\n",
       "      <td>1997</td>\n",
       "      <td>N</td>\n",
       "      <td>Y</td>\n",
       "      <td>NaN</td>\n",
       "      <td>28-Feb-99</td>\n",
       "      <td>$60,000.00</td>\n",
       "      <td>$0.00</td>\n",
       "      <td>P I F</td>\n",
       "      <td>$0.00</td>\n",
       "      <td>$60,000.00</td>\n",
       "      <td>$48,000.00</td>\n",
       "    </tr>\n",
       "    <tr>\n",
       "      <th>1</th>\n",
       "      <td>LANDMARK BAR &amp; GRILLE (THE)</td>\n",
       "      <td>NEW PARIS</td>\n",
       "      <td>IN</td>\n",
       "      <td>1ST SOURCE BANK</td>\n",
       "      <td>IN</td>\n",
       "      <td>28-Feb-97</td>\n",
       "      <td>1997</td>\n",
       "      <td>N</td>\n",
       "      <td>Y</td>\n",
       "      <td>NaN</td>\n",
       "      <td>31-May-97</td>\n",
       "      <td>$40,000.00</td>\n",
       "      <td>$0.00</td>\n",
       "      <td>P I F</td>\n",
       "      <td>$0.00</td>\n",
       "      <td>$40,000.00</td>\n",
       "      <td>$32,000.00</td>\n",
       "    </tr>\n",
       "    <tr>\n",
       "      <th>2</th>\n",
       "      <td>WHITLOCK DDS, TODD M.</td>\n",
       "      <td>BLOOMINGTON</td>\n",
       "      <td>IN</td>\n",
       "      <td>GRANT COUNTY STATE BANK</td>\n",
       "      <td>IN</td>\n",
       "      <td>28-Feb-97</td>\n",
       "      <td>1997</td>\n",
       "      <td>N</td>\n",
       "      <td>N</td>\n",
       "      <td>NaN</td>\n",
       "      <td>31-Dec-97</td>\n",
       "      <td>$287,000.00</td>\n",
       "      <td>$0.00</td>\n",
       "      <td>P I F</td>\n",
       "      <td>$0.00</td>\n",
       "      <td>$287,000.00</td>\n",
       "      <td>$215,250.00</td>\n",
       "    </tr>\n",
       "    <tr>\n",
       "      <th>3</th>\n",
       "      <td>BIG BUCKS PAWN &amp; JEWELRY, LLC</td>\n",
       "      <td>BROKEN ARROW</td>\n",
       "      <td>OK</td>\n",
       "      <td>1ST NATL BK &amp; TR CO OF BROKEN</td>\n",
       "      <td>OK</td>\n",
       "      <td>28-Feb-97</td>\n",
       "      <td>1997</td>\n",
       "      <td>N</td>\n",
       "      <td>Y</td>\n",
       "      <td>NaN</td>\n",
       "      <td>30-Jun-97</td>\n",
       "      <td>$35,000.00</td>\n",
       "      <td>$0.00</td>\n",
       "      <td>P I F</td>\n",
       "      <td>$0.00</td>\n",
       "      <td>$35,000.00</td>\n",
       "      <td>$28,000.00</td>\n",
       "    </tr>\n",
       "    <tr>\n",
       "      <th>4</th>\n",
       "      <td>ANASTASIA CONFECTIONS, INC.</td>\n",
       "      <td>ORLANDO</td>\n",
       "      <td>FL</td>\n",
       "      <td>FLORIDA BUS. DEVEL CORP</td>\n",
       "      <td>FL</td>\n",
       "      <td>28-Feb-97</td>\n",
       "      <td>1997</td>\n",
       "      <td>N</td>\n",
       "      <td>N</td>\n",
       "      <td>NaN</td>\n",
       "      <td>14-May-97</td>\n",
       "      <td>$229,000.00</td>\n",
       "      <td>$0.00</td>\n",
       "      <td>P I F</td>\n",
       "      <td>$0.00</td>\n",
       "      <td>$229,000.00</td>\n",
       "      <td>$229,000.00</td>\n",
       "    </tr>\n",
       "    <tr>\n",
       "      <th>5</th>\n",
       "      <td>B&amp;T SCREW MACHINE COMPANY, INC</td>\n",
       "      <td>PLAINVILLE</td>\n",
       "      <td>CT</td>\n",
       "      <td>TD BANK, NATIONAL ASSOCIATION</td>\n",
       "      <td>DE</td>\n",
       "      <td>28-Feb-97</td>\n",
       "      <td>1997</td>\n",
       "      <td>N</td>\n",
       "      <td>N</td>\n",
       "      <td>NaN</td>\n",
       "      <td>30-Jun-97</td>\n",
       "      <td>$517,000.00</td>\n",
       "      <td>$0.00</td>\n",
       "      <td>P I F</td>\n",
       "      <td>$0.00</td>\n",
       "      <td>$517,000.00</td>\n",
       "      <td>$387,750.00</td>\n",
       "    </tr>\n",
       "    <tr>\n",
       "      <th>6</th>\n",
       "      <td>MIDDLE ATLANTIC SPORTS CO INC</td>\n",
       "      <td>UNION</td>\n",
       "      <td>NJ</td>\n",
       "      <td>WELLS FARGO BANK NATL ASSOC</td>\n",
       "      <td>SD</td>\n",
       "      <td>2-Jun-80</td>\n",
       "      <td>1980</td>\n",
       "      <td>N</td>\n",
       "      <td>N</td>\n",
       "      <td>24-Jun-91</td>\n",
       "      <td>22-Jul-80</td>\n",
       "      <td>$600,000.00</td>\n",
       "      <td>$0.00</td>\n",
       "      <td>CHGOFF</td>\n",
       "      <td>$208,959.00</td>\n",
       "      <td>$600,000.00</td>\n",
       "      <td>$499,998.00</td>\n",
       "    </tr>\n",
       "    <tr>\n",
       "      <th>7</th>\n",
       "      <td>WEAVER PRODUCTS</td>\n",
       "      <td>SUMMERFIELD</td>\n",
       "      <td>FL</td>\n",
       "      <td>REGIONS BANK</td>\n",
       "      <td>AL</td>\n",
       "      <td>28-Feb-97</td>\n",
       "      <td>1997</td>\n",
       "      <td>N</td>\n",
       "      <td>Y</td>\n",
       "      <td>NaN</td>\n",
       "      <td>30-Jun-98</td>\n",
       "      <td>$45,000.00</td>\n",
       "      <td>$0.00</td>\n",
       "      <td>P I F</td>\n",
       "      <td>$0.00</td>\n",
       "      <td>$45,000.00</td>\n",
       "      <td>$36,000.00</td>\n",
       "    </tr>\n",
       "    <tr>\n",
       "      <th>8</th>\n",
       "      <td>TURTLE BEACH INN</td>\n",
       "      <td>PORT SAINT JOE</td>\n",
       "      <td>FL</td>\n",
       "      <td>CENTENNIAL BANK</td>\n",
       "      <td>FL</td>\n",
       "      <td>28-Feb-97</td>\n",
       "      <td>1997</td>\n",
       "      <td>N</td>\n",
       "      <td>N</td>\n",
       "      <td>NaN</td>\n",
       "      <td>31-Jul-97</td>\n",
       "      <td>$305,000.00</td>\n",
       "      <td>$0.00</td>\n",
       "      <td>P I F</td>\n",
       "      <td>$0.00</td>\n",
       "      <td>$305,000.00</td>\n",
       "      <td>$228,750.00</td>\n",
       "    </tr>\n",
       "    <tr>\n",
       "      <th>9</th>\n",
       "      <td>INTEXT BUILDING SYS LLC</td>\n",
       "      <td>GLASTONBURY</td>\n",
       "      <td>CT</td>\n",
       "      <td>WEBSTER BANK NATL ASSOC</td>\n",
       "      <td>CT</td>\n",
       "      <td>28-Feb-97</td>\n",
       "      <td>1997</td>\n",
       "      <td>N</td>\n",
       "      <td>Y</td>\n",
       "      <td>NaN</td>\n",
       "      <td>30-Apr-97</td>\n",
       "      <td>$70,000.00</td>\n",
       "      <td>$0.00</td>\n",
       "      <td>P I F</td>\n",
       "      <td>$0.00</td>\n",
       "      <td>$70,000.00</td>\n",
       "      <td>$56,000.00</td>\n",
       "    </tr>\n",
       "  </tbody>\n",
       "</table>\n",
       "</div>"
      ],
      "text/plain": [
       "                             Name            City State  \\\n",
       "0                  ABC HOBBYCRAFT      EVANSVILLE    IN   \n",
       "1     LANDMARK BAR & GRILLE (THE)       NEW PARIS    IN   \n",
       "2           WHITLOCK DDS, TODD M.     BLOOMINGTON    IN   \n",
       "3   BIG BUCKS PAWN & JEWELRY, LLC    BROKEN ARROW    OK   \n",
       "4     ANASTASIA CONFECTIONS, INC.         ORLANDO    FL   \n",
       "5  B&T SCREW MACHINE COMPANY, INC      PLAINVILLE    CT   \n",
       "6   MIDDLE ATLANTIC SPORTS CO INC           UNION    NJ   \n",
       "7                 WEAVER PRODUCTS     SUMMERFIELD    FL   \n",
       "8                TURTLE BEACH INN  PORT SAINT JOE    FL   \n",
       "9         INTEXT BUILDING SYS LLC     GLASTONBURY    CT   \n",
       "\n",
       "                            Bank BankState ApprovalDate ApprovalFY RevLineCr  \\\n",
       "0               FIFTH THIRD BANK        OH    28-Feb-97       1997         N   \n",
       "1                1ST SOURCE BANK        IN    28-Feb-97       1997         N   \n",
       "2        GRANT COUNTY STATE BANK        IN    28-Feb-97       1997         N   \n",
       "3  1ST NATL BK & TR CO OF BROKEN        OK    28-Feb-97       1997         N   \n",
       "4        FLORIDA BUS. DEVEL CORP        FL    28-Feb-97       1997         N   \n",
       "5  TD BANK, NATIONAL ASSOCIATION        DE    28-Feb-97       1997         N   \n",
       "6    WELLS FARGO BANK NATL ASSOC        SD     2-Jun-80       1980         N   \n",
       "7                   REGIONS BANK        AL    28-Feb-97       1997         N   \n",
       "8                CENTENNIAL BANK        FL    28-Feb-97       1997         N   \n",
       "9        WEBSTER BANK NATL ASSOC        CT    28-Feb-97       1997         N   \n",
       "\n",
       "  LowDoc ChgOffDate DisbursementDate DisbursementGross BalanceGross  \\\n",
       "0      Y        NaN        28-Feb-99       $60,000.00        $0.00    \n",
       "1      Y        NaN        31-May-97       $40,000.00        $0.00    \n",
       "2      N        NaN        31-Dec-97      $287,000.00        $0.00    \n",
       "3      Y        NaN        30-Jun-97       $35,000.00        $0.00    \n",
       "4      N        NaN        14-May-97      $229,000.00        $0.00    \n",
       "5      N        NaN        30-Jun-97      $517,000.00        $0.00    \n",
       "6      N  24-Jun-91        22-Jul-80      $600,000.00        $0.00    \n",
       "7      Y        NaN        30-Jun-98       $45,000.00        $0.00    \n",
       "8      N        NaN        31-Jul-97      $305,000.00        $0.00    \n",
       "9      Y        NaN        30-Apr-97       $70,000.00        $0.00    \n",
       "\n",
       "  MIS_Status  ChgOffPrinGr        GrAppv      SBA_Appv  \n",
       "0      P I F        $0.00    $60,000.00    $48,000.00   \n",
       "1      P I F        $0.00    $40,000.00    $32,000.00   \n",
       "2      P I F        $0.00   $287,000.00   $215,250.00   \n",
       "3      P I F        $0.00    $35,000.00    $28,000.00   \n",
       "4      P I F        $0.00   $229,000.00   $229,000.00   \n",
       "5      P I F        $0.00   $517,000.00   $387,750.00   \n",
       "6     CHGOFF  $208,959.00   $600,000.00   $499,998.00   \n",
       "7      P I F        $0.00    $45,000.00    $36,000.00   \n",
       "8      P I F        $0.00   $305,000.00   $228,750.00   \n",
       "9      P I F        $0.00    $70,000.00    $56,000.00   "
      ]
     },
     "execution_count": 21,
     "metadata": {},
     "output_type": "execute_result"
    }
   ],
   "source": [
    "df[categorical_columns].head(10)"
   ]
  },
  {
   "cell_type": "code",
   "execution_count": 22,
   "id": "7829d1e2",
   "metadata": {},
   "outputs": [
    {
     "data": {
      "application/vnd.microsoft.datawrangler.viewer.v0+json": {
       "columns": [
        {
         "name": "index",
         "rawType": "object",
         "type": "string"
        },
        {
         "name": "0",
         "rawType": "int64",
         "type": "integer"
        }
       ],
       "ref": "57bd790a-e560-4112-95a5-568690876559",
       "rows": [
        [
         "Name",
         "4"
        ],
        [
         "City",
         "0"
        ],
        [
         "State",
         "0"
        ],
        [
         "Bank",
         "6"
        ],
        [
         "BankState",
         "6"
        ],
        [
         "ApprovalDate",
         "0"
        ],
        [
         "ApprovalFY",
         "0"
        ],
        [
         "RevLineCr",
         "1"
        ],
        [
         "LowDoc",
         "0"
        ],
        [
         "ChgOffDate",
         "8053"
        ],
        [
         "DisbursementDate",
         "16"
        ],
        [
         "DisbursementGross",
         "0"
        ],
        [
         "BalanceGross",
         "0"
        ],
        [
         "MIS_Status",
         "21"
        ],
        [
         "ChgOffPrinGr",
         "0"
        ],
        [
         "GrAppv",
         "0"
        ],
        [
         "SBA_Appv",
         "0"
        ]
       ],
       "shape": {
        "columns": 1,
        "rows": 17
       }
      },
      "text/plain": [
       "Name                    4\n",
       "City                    0\n",
       "State                   0\n",
       "Bank                    6\n",
       "BankState               6\n",
       "ApprovalDate            0\n",
       "ApprovalFY              0\n",
       "RevLineCr               1\n",
       "LowDoc                  0\n",
       "ChgOffDate           8053\n",
       "DisbursementDate       16\n",
       "DisbursementGross       0\n",
       "BalanceGross            0\n",
       "MIS_Status             21\n",
       "ChgOffPrinGr            0\n",
       "GrAppv                  0\n",
       "SBA_Appv                0\n",
       "dtype: int64"
      ]
     },
     "execution_count": 22,
     "metadata": {},
     "output_type": "execute_result"
    }
   ],
   "source": [
    "df[categorical_columns].isnull().sum()"
   ]
  },
  {
   "cell_type": "code",
   "execution_count": 23,
   "id": "0ed273a0",
   "metadata": {},
   "outputs": [
    {
     "name": "stdout",
     "output_type": "stream",
     "text": [
      "Name 9716\n",
      "City 3779\n",
      "State 51\n",
      "Bank 950\n",
      "BankState 52\n",
      "ApprovalDate 655\n",
      "ApprovalFY 13\n",
      "RevLineCr 6\n",
      "LowDoc 3\n",
      "ChgOffDate 1215\n",
      "DisbursementDate 374\n",
      "DisbursementGross 3261\n",
      "BalanceGross 1\n",
      "MIS_Status 2\n",
      "ChgOffPrinGr 1715\n",
      "GrAppv 1225\n",
      "SBA_Appv 1505\n"
     ]
    }
   ],
   "source": [
    "for f in categorical_columns:\n",
    "    print(f, df[f].nunique())"
   ]
  },
  {
   "cell_type": "code",
   "execution_count": 24,
   "id": "6b25f95b",
   "metadata": {},
   "outputs": [],
   "source": [
    "df.drop(columns=[\"LoanNr_ChkDgt\", \"FranchiseCode\"], inplace=True)"
   ]
  },
  {
   "cell_type": "code",
   "execution_count": 25,
   "id": "39eb8a18",
   "metadata": {},
   "outputs": [],
   "source": [
    "numerical_columns.remove(\"LoanNr_ChkDgt\")\n",
    "numerical_columns.remove(\"FranchiseCode\")"
   ]
  },
  {
   "cell_type": "code",
   "execution_count": 26,
   "id": "82fa5e40",
   "metadata": {},
   "outputs": [
    {
     "data": {
      "text/plain": [
       "['Zip',\n",
       " 'NAICS',\n",
       " 'Term',\n",
       " 'NoEmp',\n",
       " 'NewExist',\n",
       " 'CreateJob',\n",
       " 'RetainedJob',\n",
       " 'UrbanRural']"
      ]
     },
     "execution_count": 26,
     "metadata": {},
     "output_type": "execute_result"
    }
   ],
   "source": [
    "numerical_columns"
   ]
  },
  {
   "cell_type": "code",
   "execution_count": 27,
   "id": "6f5066d0",
   "metadata": {},
   "outputs": [
    {
     "data": {
      "application/vnd.microsoft.datawrangler.viewer.v0+json": {
       "columns": [
        {
         "name": "index",
         "rawType": "object",
         "type": "string"
        },
        {
         "name": "0",
         "rawType": "object",
         "type": "unknown"
        }
       ],
       "ref": "549d7797-1b1e-4c29-b5b3-f29db065e94d",
       "rows": [
        [
         "Zip",
         "int64"
        ],
        [
         "NAICS",
         "int64"
        ],
        [
         "Term",
         "int64"
        ],
        [
         "NoEmp",
         "int64"
        ],
        [
         "NewExist",
         "int32"
        ],
        [
         "CreateJob",
         "int64"
        ],
        [
         "RetainedJob",
         "int64"
        ],
        [
         "UrbanRural",
         "int64"
        ]
       ],
       "shape": {
        "columns": 1,
        "rows": 8
       }
      },
      "text/plain": [
       "Zip            int64\n",
       "NAICS          int64\n",
       "Term           int64\n",
       "NoEmp          int64\n",
       "NewExist       int32\n",
       "CreateJob      int64\n",
       "RetainedJob    int64\n",
       "UrbanRural     int64\n",
       "dtype: object"
      ]
     },
     "execution_count": 27,
     "metadata": {},
     "output_type": "execute_result"
    }
   ],
   "source": [
    "df[\"NewExist\"] = df[\"NewExist\"].astype(\"int\")\n",
    "\n",
    "df[numerical_columns].dtypes"
   ]
  },
  {
   "cell_type": "code",
   "execution_count": 28,
   "id": "1389889d",
   "metadata": {},
   "outputs": [
    {
     "data": {
      "application/vnd.microsoft.datawrangler.viewer.v0+json": {
       "columns": [
        {
         "name": "NewExist",
         "rawType": "int32",
         "type": "integer"
        },
        {
         "name": "count",
         "rawType": "int64",
         "type": "integer"
        }
       ],
       "ref": "45e8ccd1-1b2a-4d1f-8f18-88c5263f7412",
       "rows": [
        [
         "1",
         "6819"
        ],
        [
         "2",
         "3144"
        ],
        [
         "0",
         "37"
        ]
       ],
       "shape": {
        "columns": 1,
        "rows": 3
       }
      },
      "text/plain": [
       "NewExist\n",
       "1    6819\n",
       "2    3144\n",
       "0      37\n",
       "Name: count, dtype: int64"
      ]
     },
     "execution_count": 28,
     "metadata": {},
     "output_type": "execute_result"
    }
   ],
   "source": [
    "df['NewExist'].value_counts()"
   ]
  },
  {
   "cell_type": "code",
   "execution_count": 29,
   "id": "81f331b2",
   "metadata": {},
   "outputs": [],
   "source": [
    "for i in range(len(df)):\n",
    "    if df[\"NewExist\"].iloc[i] == 0:\n",
    "        df[\"NewExist\"].iloc[i] == 1"
   ]
  },
  {
   "cell_type": "code",
   "execution_count": 30,
   "id": "a4bb7eae",
   "metadata": {},
   "outputs": [],
   "source": [
    "df.drop(columns=[\"Name\", \"ChgOffDate\"], inplace=True)"
   ]
  },
  {
   "cell_type": "code",
   "execution_count": 31,
   "id": "5e8f0c76",
   "metadata": {},
   "outputs": [],
   "source": [
    "categorical_columns.remove(\"Name\")\n",
    "categorical_columns.remove(\"ChgOffDate\")"
   ]
  },
  {
   "cell_type": "code",
   "execution_count": 32,
   "id": "af48938d",
   "metadata": {},
   "outputs": [
    {
     "data": {
      "application/vnd.microsoft.datawrangler.viewer.v0+json": {
       "columns": [
        {
         "name": "index",
         "rawType": "int64",
         "type": "integer"
        },
        {
         "name": "City",
         "rawType": "object",
         "type": "string"
        },
        {
         "name": "State",
         "rawType": "object",
         "type": "string"
        },
        {
         "name": "Zip",
         "rawType": "int64",
         "type": "integer"
        },
        {
         "name": "Bank",
         "rawType": "object",
         "type": "string"
        },
        {
         "name": "BankState",
         "rawType": "object",
         "type": "string"
        },
        {
         "name": "NAICS",
         "rawType": "int64",
         "type": "integer"
        },
        {
         "name": "ApprovalDate",
         "rawType": "object",
         "type": "string"
        },
        {
         "name": "ApprovalFY",
         "rawType": "object",
         "type": "unknown"
        },
        {
         "name": "Term",
         "rawType": "int64",
         "type": "integer"
        },
        {
         "name": "NoEmp",
         "rawType": "int64",
         "type": "integer"
        },
        {
         "name": "NewExist",
         "rawType": "int32",
         "type": "integer"
        },
        {
         "name": "CreateJob",
         "rawType": "int64",
         "type": "integer"
        },
        {
         "name": "RetainedJob",
         "rawType": "int64",
         "type": "integer"
        },
        {
         "name": "UrbanRural",
         "rawType": "int64",
         "type": "integer"
        },
        {
         "name": "RevLineCr",
         "rawType": "object",
         "type": "string"
        },
        {
         "name": "LowDoc",
         "rawType": "object",
         "type": "string"
        },
        {
         "name": "DisbursementDate",
         "rawType": "object",
         "type": "string"
        },
        {
         "name": "DisbursementGross",
         "rawType": "object",
         "type": "string"
        },
        {
         "name": "BalanceGross",
         "rawType": "object",
         "type": "string"
        },
        {
         "name": "MIS_Status",
         "rawType": "object",
         "type": "string"
        },
        {
         "name": "ChgOffPrinGr",
         "rawType": "object",
         "type": "string"
        },
        {
         "name": "GrAppv",
         "rawType": "object",
         "type": "string"
        },
        {
         "name": "SBA_Appv",
         "rawType": "object",
         "type": "string"
        }
       ],
       "ref": "da0afe9c-e1d7-45bf-a5b5-9f868481c433",
       "rows": [
        [
         "0",
         "EVANSVILLE",
         "IN",
         "47711",
         "FIFTH THIRD BANK",
         "OH",
         "451120",
         "28-Feb-97",
         "1997",
         "84",
         "4",
         "2",
         "0",
         "0",
         "0",
         "N",
         "Y",
         "28-Feb-99",
         "$60,000.00 ",
         "$0.00 ",
         "P I F",
         "$0.00 ",
         "$60,000.00 ",
         "$48,000.00 "
        ],
        [
         "1",
         "NEW PARIS",
         "IN",
         "46526",
         "1ST SOURCE BANK",
         "IN",
         "722410",
         "28-Feb-97",
         "1997",
         "60",
         "2",
         "2",
         "0",
         "0",
         "0",
         "N",
         "Y",
         "31-May-97",
         "$40,000.00 ",
         "$0.00 ",
         "P I F",
         "$0.00 ",
         "$40,000.00 ",
         "$32,000.00 "
        ],
        [
         "2",
         "BLOOMINGTON",
         "IN",
         "47401",
         "GRANT COUNTY STATE BANK",
         "IN",
         "621210",
         "28-Feb-97",
         "1997",
         "180",
         "7",
         "1",
         "0",
         "0",
         "0",
         "N",
         "N",
         "31-Dec-97",
         "$287,000.00 ",
         "$0.00 ",
         "P I F",
         "$0.00 ",
         "$287,000.00 ",
         "$215,250.00 "
        ],
        [
         "3",
         "BROKEN ARROW",
         "OK",
         "74012",
         "1ST NATL BK & TR CO OF BROKEN",
         "OK",
         "0",
         "28-Feb-97",
         "1997",
         "60",
         "2",
         "1",
         "0",
         "0",
         "0",
         "N",
         "Y",
         "30-Jun-97",
         "$35,000.00 ",
         "$0.00 ",
         "P I F",
         "$0.00 ",
         "$35,000.00 ",
         "$28,000.00 "
        ],
        [
         "4",
         "ORLANDO",
         "FL",
         "32801",
         "FLORIDA BUS. DEVEL CORP",
         "FL",
         "0",
         "28-Feb-97",
         "1997",
         "240",
         "14",
         "1",
         "7",
         "7",
         "0",
         "N",
         "N",
         "14-May-97",
         "$229,000.00 ",
         "$0.00 ",
         "P I F",
         "$0.00 ",
         "$229,000.00 ",
         "$229,000.00 "
        ],
        [
         "5",
         "PLAINVILLE",
         "CT",
         "6062",
         "TD BANK, NATIONAL ASSOCIATION",
         "DE",
         "332721",
         "28-Feb-97",
         "1997",
         "120",
         "19",
         "1",
         "0",
         "0",
         "0",
         "N",
         "N",
         "30-Jun-97",
         "$517,000.00 ",
         "$0.00 ",
         "P I F",
         "$0.00 ",
         "$517,000.00 ",
         "$387,750.00 "
        ],
        [
         "6",
         "UNION",
         "NJ",
         "7083",
         "WELLS FARGO BANK NATL ASSOC",
         "SD",
         "0",
         "2-Jun-80",
         "1980",
         "45",
         "45",
         "2",
         "0",
         "0",
         "0",
         "N",
         "N",
         "22-Jul-80",
         "$600,000.00 ",
         "$0.00 ",
         "CHGOFF",
         "$208,959.00 ",
         "$600,000.00 ",
         "$499,998.00 "
        ],
        [
         "7",
         "SUMMERFIELD",
         "FL",
         "34491",
         "REGIONS BANK",
         "AL",
         "811118",
         "28-Feb-97",
         "1997",
         "84",
         "1",
         "2",
         "0",
         "0",
         "0",
         "N",
         "Y",
         "30-Jun-98",
         "$45,000.00 ",
         "$0.00 ",
         "P I F",
         "$0.00 ",
         "$45,000.00 ",
         "$36,000.00 "
        ],
        [
         "8",
         "PORT SAINT JOE",
         "FL",
         "32456",
         "CENTENNIAL BANK",
         "FL",
         "721310",
         "28-Feb-97",
         "1997",
         "297",
         "2",
         "2",
         "0",
         "0",
         "0",
         "N",
         "N",
         "31-Jul-97",
         "$305,000.00 ",
         "$0.00 ",
         "P I F",
         "$0.00 ",
         "$305,000.00 ",
         "$228,750.00 "
        ],
        [
         "9",
         "GLASTONBURY",
         "CT",
         "6073",
         "WEBSTER BANK NATL ASSOC",
         "CT",
         "0",
         "28-Feb-97",
         "1997",
         "84",
         "3",
         "2",
         "0",
         "0",
         "0",
         "N",
         "Y",
         "30-Apr-97",
         "$70,000.00 ",
         "$0.00 ",
         "P I F",
         "$0.00 ",
         "$70,000.00 ",
         "$56,000.00 "
        ]
       ],
       "shape": {
        "columns": 23,
        "rows": 10
       }
      },
      "text/html": [
       "<div>\n",
       "<style scoped>\n",
       "    .dataframe tbody tr th:only-of-type {\n",
       "        vertical-align: middle;\n",
       "    }\n",
       "\n",
       "    .dataframe tbody tr th {\n",
       "        vertical-align: top;\n",
       "    }\n",
       "\n",
       "    .dataframe thead th {\n",
       "        text-align: right;\n",
       "    }\n",
       "</style>\n",
       "<table border=\"1\" class=\"dataframe\">\n",
       "  <thead>\n",
       "    <tr style=\"text-align: right;\">\n",
       "      <th></th>\n",
       "      <th>City</th>\n",
       "      <th>State</th>\n",
       "      <th>Zip</th>\n",
       "      <th>Bank</th>\n",
       "      <th>BankState</th>\n",
       "      <th>NAICS</th>\n",
       "      <th>ApprovalDate</th>\n",
       "      <th>ApprovalFY</th>\n",
       "      <th>Term</th>\n",
       "      <th>NoEmp</th>\n",
       "      <th>...</th>\n",
       "      <th>UrbanRural</th>\n",
       "      <th>RevLineCr</th>\n",
       "      <th>LowDoc</th>\n",
       "      <th>DisbursementDate</th>\n",
       "      <th>DisbursementGross</th>\n",
       "      <th>BalanceGross</th>\n",
       "      <th>MIS_Status</th>\n",
       "      <th>ChgOffPrinGr</th>\n",
       "      <th>GrAppv</th>\n",
       "      <th>SBA_Appv</th>\n",
       "    </tr>\n",
       "  </thead>\n",
       "  <tbody>\n",
       "    <tr>\n",
       "      <th>0</th>\n",
       "      <td>EVANSVILLE</td>\n",
       "      <td>IN</td>\n",
       "      <td>47711</td>\n",
       "      <td>FIFTH THIRD BANK</td>\n",
       "      <td>OH</td>\n",
       "      <td>451120</td>\n",
       "      <td>28-Feb-97</td>\n",
       "      <td>1997</td>\n",
       "      <td>84</td>\n",
       "      <td>4</td>\n",
       "      <td>...</td>\n",
       "      <td>0</td>\n",
       "      <td>N</td>\n",
       "      <td>Y</td>\n",
       "      <td>28-Feb-99</td>\n",
       "      <td>$60,000.00</td>\n",
       "      <td>$0.00</td>\n",
       "      <td>P I F</td>\n",
       "      <td>$0.00</td>\n",
       "      <td>$60,000.00</td>\n",
       "      <td>$48,000.00</td>\n",
       "    </tr>\n",
       "    <tr>\n",
       "      <th>1</th>\n",
       "      <td>NEW PARIS</td>\n",
       "      <td>IN</td>\n",
       "      <td>46526</td>\n",
       "      <td>1ST SOURCE BANK</td>\n",
       "      <td>IN</td>\n",
       "      <td>722410</td>\n",
       "      <td>28-Feb-97</td>\n",
       "      <td>1997</td>\n",
       "      <td>60</td>\n",
       "      <td>2</td>\n",
       "      <td>...</td>\n",
       "      <td>0</td>\n",
       "      <td>N</td>\n",
       "      <td>Y</td>\n",
       "      <td>31-May-97</td>\n",
       "      <td>$40,000.00</td>\n",
       "      <td>$0.00</td>\n",
       "      <td>P I F</td>\n",
       "      <td>$0.00</td>\n",
       "      <td>$40,000.00</td>\n",
       "      <td>$32,000.00</td>\n",
       "    </tr>\n",
       "    <tr>\n",
       "      <th>2</th>\n",
       "      <td>BLOOMINGTON</td>\n",
       "      <td>IN</td>\n",
       "      <td>47401</td>\n",
       "      <td>GRANT COUNTY STATE BANK</td>\n",
       "      <td>IN</td>\n",
       "      <td>621210</td>\n",
       "      <td>28-Feb-97</td>\n",
       "      <td>1997</td>\n",
       "      <td>180</td>\n",
       "      <td>7</td>\n",
       "      <td>...</td>\n",
       "      <td>0</td>\n",
       "      <td>N</td>\n",
       "      <td>N</td>\n",
       "      <td>31-Dec-97</td>\n",
       "      <td>$287,000.00</td>\n",
       "      <td>$0.00</td>\n",
       "      <td>P I F</td>\n",
       "      <td>$0.00</td>\n",
       "      <td>$287,000.00</td>\n",
       "      <td>$215,250.00</td>\n",
       "    </tr>\n",
       "    <tr>\n",
       "      <th>3</th>\n",
       "      <td>BROKEN ARROW</td>\n",
       "      <td>OK</td>\n",
       "      <td>74012</td>\n",
       "      <td>1ST NATL BK &amp; TR CO OF BROKEN</td>\n",
       "      <td>OK</td>\n",
       "      <td>0</td>\n",
       "      <td>28-Feb-97</td>\n",
       "      <td>1997</td>\n",
       "      <td>60</td>\n",
       "      <td>2</td>\n",
       "      <td>...</td>\n",
       "      <td>0</td>\n",
       "      <td>N</td>\n",
       "      <td>Y</td>\n",
       "      <td>30-Jun-97</td>\n",
       "      <td>$35,000.00</td>\n",
       "      <td>$0.00</td>\n",
       "      <td>P I F</td>\n",
       "      <td>$0.00</td>\n",
       "      <td>$35,000.00</td>\n",
       "      <td>$28,000.00</td>\n",
       "    </tr>\n",
       "    <tr>\n",
       "      <th>4</th>\n",
       "      <td>ORLANDO</td>\n",
       "      <td>FL</td>\n",
       "      <td>32801</td>\n",
       "      <td>FLORIDA BUS. DEVEL CORP</td>\n",
       "      <td>FL</td>\n",
       "      <td>0</td>\n",
       "      <td>28-Feb-97</td>\n",
       "      <td>1997</td>\n",
       "      <td>240</td>\n",
       "      <td>14</td>\n",
       "      <td>...</td>\n",
       "      <td>0</td>\n",
       "      <td>N</td>\n",
       "      <td>N</td>\n",
       "      <td>14-May-97</td>\n",
       "      <td>$229,000.00</td>\n",
       "      <td>$0.00</td>\n",
       "      <td>P I F</td>\n",
       "      <td>$0.00</td>\n",
       "      <td>$229,000.00</td>\n",
       "      <td>$229,000.00</td>\n",
       "    </tr>\n",
       "    <tr>\n",
       "      <th>5</th>\n",
       "      <td>PLAINVILLE</td>\n",
       "      <td>CT</td>\n",
       "      <td>6062</td>\n",
       "      <td>TD BANK, NATIONAL ASSOCIATION</td>\n",
       "      <td>DE</td>\n",
       "      <td>332721</td>\n",
       "      <td>28-Feb-97</td>\n",
       "      <td>1997</td>\n",
       "      <td>120</td>\n",
       "      <td>19</td>\n",
       "      <td>...</td>\n",
       "      <td>0</td>\n",
       "      <td>N</td>\n",
       "      <td>N</td>\n",
       "      <td>30-Jun-97</td>\n",
       "      <td>$517,000.00</td>\n",
       "      <td>$0.00</td>\n",
       "      <td>P I F</td>\n",
       "      <td>$0.00</td>\n",
       "      <td>$517,000.00</td>\n",
       "      <td>$387,750.00</td>\n",
       "    </tr>\n",
       "    <tr>\n",
       "      <th>6</th>\n",
       "      <td>UNION</td>\n",
       "      <td>NJ</td>\n",
       "      <td>7083</td>\n",
       "      <td>WELLS FARGO BANK NATL ASSOC</td>\n",
       "      <td>SD</td>\n",
       "      <td>0</td>\n",
       "      <td>2-Jun-80</td>\n",
       "      <td>1980</td>\n",
       "      <td>45</td>\n",
       "      <td>45</td>\n",
       "      <td>...</td>\n",
       "      <td>0</td>\n",
       "      <td>N</td>\n",
       "      <td>N</td>\n",
       "      <td>22-Jul-80</td>\n",
       "      <td>$600,000.00</td>\n",
       "      <td>$0.00</td>\n",
       "      <td>CHGOFF</td>\n",
       "      <td>$208,959.00</td>\n",
       "      <td>$600,000.00</td>\n",
       "      <td>$499,998.00</td>\n",
       "    </tr>\n",
       "    <tr>\n",
       "      <th>7</th>\n",
       "      <td>SUMMERFIELD</td>\n",
       "      <td>FL</td>\n",
       "      <td>34491</td>\n",
       "      <td>REGIONS BANK</td>\n",
       "      <td>AL</td>\n",
       "      <td>811118</td>\n",
       "      <td>28-Feb-97</td>\n",
       "      <td>1997</td>\n",
       "      <td>84</td>\n",
       "      <td>1</td>\n",
       "      <td>...</td>\n",
       "      <td>0</td>\n",
       "      <td>N</td>\n",
       "      <td>Y</td>\n",
       "      <td>30-Jun-98</td>\n",
       "      <td>$45,000.00</td>\n",
       "      <td>$0.00</td>\n",
       "      <td>P I F</td>\n",
       "      <td>$0.00</td>\n",
       "      <td>$45,000.00</td>\n",
       "      <td>$36,000.00</td>\n",
       "    </tr>\n",
       "    <tr>\n",
       "      <th>8</th>\n",
       "      <td>PORT SAINT JOE</td>\n",
       "      <td>FL</td>\n",
       "      <td>32456</td>\n",
       "      <td>CENTENNIAL BANK</td>\n",
       "      <td>FL</td>\n",
       "      <td>721310</td>\n",
       "      <td>28-Feb-97</td>\n",
       "      <td>1997</td>\n",
       "      <td>297</td>\n",
       "      <td>2</td>\n",
       "      <td>...</td>\n",
       "      <td>0</td>\n",
       "      <td>N</td>\n",
       "      <td>N</td>\n",
       "      <td>31-Jul-97</td>\n",
       "      <td>$305,000.00</td>\n",
       "      <td>$0.00</td>\n",
       "      <td>P I F</td>\n",
       "      <td>$0.00</td>\n",
       "      <td>$305,000.00</td>\n",
       "      <td>$228,750.00</td>\n",
       "    </tr>\n",
       "    <tr>\n",
       "      <th>9</th>\n",
       "      <td>GLASTONBURY</td>\n",
       "      <td>CT</td>\n",
       "      <td>6073</td>\n",
       "      <td>WEBSTER BANK NATL ASSOC</td>\n",
       "      <td>CT</td>\n",
       "      <td>0</td>\n",
       "      <td>28-Feb-97</td>\n",
       "      <td>1997</td>\n",
       "      <td>84</td>\n",
       "      <td>3</td>\n",
       "      <td>...</td>\n",
       "      <td>0</td>\n",
       "      <td>N</td>\n",
       "      <td>Y</td>\n",
       "      <td>30-Apr-97</td>\n",
       "      <td>$70,000.00</td>\n",
       "      <td>$0.00</td>\n",
       "      <td>P I F</td>\n",
       "      <td>$0.00</td>\n",
       "      <td>$70,000.00</td>\n",
       "      <td>$56,000.00</td>\n",
       "    </tr>\n",
       "  </tbody>\n",
       "</table>\n",
       "<p>10 rows × 23 columns</p>\n",
       "</div>"
      ],
      "text/plain": [
       "             City State    Zip                           Bank BankState  \\\n",
       "0      EVANSVILLE    IN  47711               FIFTH THIRD BANK        OH   \n",
       "1       NEW PARIS    IN  46526                1ST SOURCE BANK        IN   \n",
       "2     BLOOMINGTON    IN  47401        GRANT COUNTY STATE BANK        IN   \n",
       "3    BROKEN ARROW    OK  74012  1ST NATL BK & TR CO OF BROKEN        OK   \n",
       "4         ORLANDO    FL  32801        FLORIDA BUS. DEVEL CORP        FL   \n",
       "5      PLAINVILLE    CT   6062  TD BANK, NATIONAL ASSOCIATION        DE   \n",
       "6           UNION    NJ   7083    WELLS FARGO BANK NATL ASSOC        SD   \n",
       "7     SUMMERFIELD    FL  34491                   REGIONS BANK        AL   \n",
       "8  PORT SAINT JOE    FL  32456                CENTENNIAL BANK        FL   \n",
       "9     GLASTONBURY    CT   6073        WEBSTER BANK NATL ASSOC        CT   \n",
       "\n",
       "    NAICS ApprovalDate ApprovalFY  Term  NoEmp  ...  UrbanRural  RevLineCr  \\\n",
       "0  451120    28-Feb-97       1997    84      4  ...           0          N   \n",
       "1  722410    28-Feb-97       1997    60      2  ...           0          N   \n",
       "2  621210    28-Feb-97       1997   180      7  ...           0          N   \n",
       "3       0    28-Feb-97       1997    60      2  ...           0          N   \n",
       "4       0    28-Feb-97       1997   240     14  ...           0          N   \n",
       "5  332721    28-Feb-97       1997   120     19  ...           0          N   \n",
       "6       0     2-Jun-80       1980    45     45  ...           0          N   \n",
       "7  811118    28-Feb-97       1997    84      1  ...           0          N   \n",
       "8  721310    28-Feb-97       1997   297      2  ...           0          N   \n",
       "9       0    28-Feb-97       1997    84      3  ...           0          N   \n",
       "\n",
       "   LowDoc  DisbursementDate DisbursementGross BalanceGross MIS_Status  \\\n",
       "0       Y         28-Feb-99       $60,000.00        $0.00       P I F   \n",
       "1       Y         31-May-97       $40,000.00        $0.00       P I F   \n",
       "2       N         31-Dec-97      $287,000.00        $0.00       P I F   \n",
       "3       Y         30-Jun-97       $35,000.00        $0.00       P I F   \n",
       "4       N         14-May-97      $229,000.00        $0.00       P I F   \n",
       "5       N         30-Jun-97      $517,000.00        $0.00       P I F   \n",
       "6       N         22-Jul-80      $600,000.00        $0.00      CHGOFF   \n",
       "7       Y         30-Jun-98       $45,000.00        $0.00       P I F   \n",
       "8       N         31-Jul-97      $305,000.00        $0.00       P I F   \n",
       "9       Y         30-Apr-97       $70,000.00        $0.00       P I F   \n",
       "\n",
       "   ChgOffPrinGr        GrAppv      SBA_Appv  \n",
       "0        $0.00    $60,000.00    $48,000.00   \n",
       "1        $0.00    $40,000.00    $32,000.00   \n",
       "2        $0.00   $287,000.00   $215,250.00   \n",
       "3        $0.00    $35,000.00    $28,000.00   \n",
       "4        $0.00   $229,000.00   $229,000.00   \n",
       "5        $0.00   $517,000.00   $387,750.00   \n",
       "6  $208,959.00   $600,000.00   $499,998.00   \n",
       "7        $0.00    $45,000.00    $36,000.00   \n",
       "8        $0.00   $305,000.00   $228,750.00   \n",
       "9        $0.00    $70,000.00    $56,000.00   \n",
       "\n",
       "[10 rows x 23 columns]"
      ]
     },
     "execution_count": 32,
     "metadata": {},
     "output_type": "execute_result"
    }
   ],
   "source": [
    "df.head(10)"
   ]
  },
  {
   "cell_type": "code",
   "execution_count": 33,
   "id": "03226742",
   "metadata": {},
   "outputs": [],
   "source": [
    "df = df[~df[\"MIS_Status\"].isna()]\n",
    "df = df[~df[\"DisbursementDate\"].isna()]"
   ]
  },
  {
   "cell_type": "code",
   "execution_count": 34,
   "id": "5c4c29be",
   "metadata": {},
   "outputs": [],
   "source": [
    "Missing_value_features = [\n",
    "    feature for feature in categorical_columns if df[feature].isna().sum() > 0\n",
    "]"
   ]
  },
  {
   "cell_type": "code",
   "execution_count": 35,
   "id": "f284e1e6",
   "metadata": {},
   "outputs": [
    {
     "data": {
      "text/plain": [
       "['Bank', 'BankState', 'RevLineCr']"
      ]
     },
     "execution_count": 35,
     "metadata": {},
     "output_type": "execute_result"
    }
   ],
   "source": [
    "Missing_value_features"
   ]
  }
 ],
 "metadata": {
  "kernelspec": {
   "display_name": "base",
   "language": "python",
   "name": "python3"
  },
  "language_info": {
   "codemirror_mode": {
    "name": "ipython",
    "version": 3
   },
   "file_extension": ".py",
   "mimetype": "text/x-python",
   "name": "python",
   "nbconvert_exporter": "python",
   "pygments_lexer": "ipython3",
   "version": "3.12.7"
  }
 },
 "nbformat": 4,
 "nbformat_minor": 5
}
