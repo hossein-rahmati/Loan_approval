{
 "cells": [
  {
   "cell_type": "markdown",
   "id": "2694afbf",
   "metadata": {},
   "source": [
    "### Should This Loan be Approved or Denied?"
   ]
  },
  {
   "cell_type": "markdown",
   "id": "00c7abdc",
   "metadata": {},
   "source": [
    "The dataset that I used in this notebook:\n",
    "[Kaggle URL](https://www.kaggle.com/datasets/mirbektoktogaraev/should-this-loan-be-approved-or-denied/code)"
   ]
  }
 ],
 "metadata": {
  "language_info": {
   "name": "python"
  }
 },
 "nbformat": 4,
 "nbformat_minor": 5
}
